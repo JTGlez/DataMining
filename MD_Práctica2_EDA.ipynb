{
 "cells": [
  {
   "attachments": {},
   "cell_type": "markdown",
   "metadata": {
    "id": "Zo6Nr9ApAOMF"
   },
   "source": [
    "# **Práctica 2: Análisis exploratorio de datos**\n",
    "\n",
    "Nombre: Téllez González Jorge Luis\n",
    "Cruz Rangel Leonardo Said\n",
    "\n",
    "No. Cuenta: 315132726, \n",
    "\n",
    "Email: jorjeluigi1@comunidad.unam.mx"
   ]
  },
  {
   "cell_type": "markdown",
   "metadata": {
    "id": "ULNJnL1hDiT5"
   },
   "source": [
    "### **Contexto**\n",
    "\n",
    "Yahoo Finance ofrece una amplia variedad de datos de mercado sobre acciones, bonos, divisas y criptomonedas. También proporciona informes de noticias con varios puntos de vista sobre diferentes mercados de todo el mundo, todos accesibles a través de la biblioteca yfinance.\n",
    "\n",
    "**Objetivo:** Hacer un análisis exploratorio de datos con base en información obtenida de Yahoo Finanzas. Por ejemplo, datos de Spotify, Facebook, Amazon y Aeromexico.\n",
    "\n",
    "**Fuente de datos**\n",
    "\n",
    "De Yahoo Finanzas se utiliza el Ticker -Etiqueta de cotización- de la acción bursatil."
   ]
  },
  {
   "cell_type": "markdown",
   "metadata": {
    "id": "uoY99zJ29vPO"
   },
   "source": [
    "### **Importar las bibliotecas y los datos**"
   ]
  },
  {
   "cell_type": "code",
   "execution_count": 1,
   "metadata": {},
   "outputs": [
    {
     "name": "stdout",
     "output_type": "stream",
     "text": [
      "Collecting yfinance\n",
      "  Downloading yfinance-0.2.12-py2.py3-none-any.whl (59 kB)\n",
      "     ---------------------------------------- 59.2/59.2 kB 1.1 MB/s eta 0:00:00\n",
      "Collecting html5lib>=1.1\n",
      "  Downloading html5lib-1.1-py2.py3-none-any.whl (112 kB)\n",
      "     -------------------------------------- 112.2/112.2 kB 2.2 MB/s eta 0:00:00\n",
      "Requirement already satisfied: appdirs>=1.4.4 in c:\\users\\jorje\\anaconda3\\lib\\site-packages (from yfinance) (1.4.4)\n",
      "Collecting multitasking>=0.0.7\n",
      "  Downloading multitasking-0.0.11-py3-none-any.whl (8.5 kB)\n",
      "Collecting frozendict>=2.3.4\n",
      "  Downloading frozendict-2.3.5-cp39-cp39-win_amd64.whl (35 kB)\n",
      "Requirement already satisfied: requests>=2.26 in c:\\users\\jorje\\anaconda3\\lib\\site-packages (from yfinance) (2.28.1)\n",
      "Requirement already satisfied: lxml>=4.9.1 in c:\\users\\jorje\\anaconda3\\lib\\site-packages (from yfinance) (4.9.1)\n",
      "Requirement already satisfied: pandas>=1.3.0 in c:\\users\\jorje\\anaconda3\\lib\\site-packages (from yfinance) (1.4.4)\n",
      "Requirement already satisfied: beautifulsoup4>=4.11.1 in c:\\users\\jorje\\anaconda3\\lib\\site-packages (from yfinance) (4.11.1)\n",
      "Requirement already satisfied: numpy>=1.16.5 in c:\\users\\jorje\\anaconda3\\lib\\site-packages (from yfinance) (1.21.5)\n",
      "Requirement already satisfied: cryptography>=3.3.2 in c:\\users\\jorje\\anaconda3\\lib\\site-packages (from yfinance) (37.0.1)\n",
      "Collecting pytz>=2022.5\n",
      "  Downloading pytz-2022.7.1-py2.py3-none-any.whl (499 kB)\n",
      "     -------------------------------------- 499.4/499.4 kB 6.3 MB/s eta 0:00:00\n",
      "Requirement already satisfied: soupsieve>1.2 in c:\\users\\jorje\\anaconda3\\lib\\site-packages (from beautifulsoup4>=4.11.1->yfinance) (2.3.1)\n",
      "Requirement already satisfied: cffi>=1.12 in c:\\users\\jorje\\anaconda3\\lib\\site-packages (from cryptography>=3.3.2->yfinance) (1.15.1)\n",
      "Requirement already satisfied: webencodings in c:\\users\\jorje\\anaconda3\\lib\\site-packages (from html5lib>=1.1->yfinance) (0.5.1)\n",
      "Requirement already satisfied: six>=1.9 in c:\\users\\jorje\\anaconda3\\lib\\site-packages (from html5lib>=1.1->yfinance) (1.16.0)\n",
      "Requirement already satisfied: python-dateutil>=2.8.1 in c:\\users\\jorje\\anaconda3\\lib\\site-packages (from pandas>=1.3.0->yfinance) (2.8.2)\n",
      "Requirement already satisfied: certifi>=2017.4.17 in c:\\users\\jorje\\anaconda3\\lib\\site-packages (from requests>=2.26->yfinance) (2022.9.14)\n",
      "Requirement already satisfied: charset-normalizer<3,>=2 in c:\\users\\jorje\\anaconda3\\lib\\site-packages (from requests>=2.26->yfinance) (2.0.4)\n",
      "Requirement already satisfied: urllib3<1.27,>=1.21.1 in c:\\users\\jorje\\anaconda3\\lib\\site-packages (from requests>=2.26->yfinance) (1.26.11)\n",
      "Requirement already satisfied: idna<4,>=2.5 in c:\\users\\jorje\\anaconda3\\lib\\site-packages (from requests>=2.26->yfinance) (3.3)\n",
      "Requirement already satisfied: pycparser in c:\\users\\jorje\\anaconda3\\lib\\site-packages (from cffi>=1.12->cryptography>=3.3.2->yfinance) (2.21)\n",
      "Installing collected packages: pytz, multitasking, html5lib, frozendict, yfinance\n",
      "  Attempting uninstall: pytz\n",
      "    Found existing installation: pytz 2022.1\n",
      "    Uninstalling pytz-2022.1:\n",
      "      Successfully uninstalled pytz-2022.1\n",
      "Successfully installed frozendict-2.3.5 html5lib-1.1 multitasking-0.0.11 pytz-2022.7.1 yfinance-0.2.12\n"
     ]
    },
    {
     "name": "stderr",
     "output_type": "stream",
     "text": [
      "ERROR: pip's dependency resolver does not currently take into account all the packages that are installed. This behaviour is the source of the following dependency conflicts.\n",
      "conda-repo-cli 1.0.20 requires clyent==1.2.1, but you have clyent 1.2.2 which is incompatible.\n",
      "conda-repo-cli 1.0.20 requires nbformat==5.4.0, but you have nbformat 5.5.0 which is incompatible.\n"
     ]
    }
   ],
   "source": [
    "!pip install yfinance\n",
    "#!pip install googlefinance"
   ]
  },
  {
   "cell_type": "code",
   "execution_count": 2,
   "metadata": {
    "id": "s4Uf32pf_8NH"
   },
   "outputs": [],
   "source": [
    "import pandas as pd               # Para la manipulación y análisis de datos\n",
    "import numpy as np                # Para crear vectores y matrices n dimensionales\n",
    "import matplotlib.pyplot as plt   # Para la generación de gráficas a partir de los datos\n",
    "import seaborn as sns             # Para la visualización de datos basado en matplotlib\n",
    "%matplotlib inline             \n",
    "# Para generar y almacenar los gráficos dentro del cuaderno\n",
    "import yfinance as yf"
   ]
  },
  {
   "cell_type": "code",
   "execution_count": 3,
   "metadata": {
    "colab": {
     "base_uri": "https://localhost:8080/",
     "height": 713
    },
    "id": "Fj60_dEpDnCU",
    "outputId": "cc12a43b-8634-4a80-fc6a-da71eb487861"
   },
   "outputs": [
    {
     "data": {
      "text/plain": [
       "yfinance.Ticker object <SPOT>"
      ]
     },
     "execution_count": 3,
     "metadata": {},
     "output_type": "execute_result"
    }
   ],
   "source": [
    "# Para Spotify\n",
    "DataSpotify = yf.Ticker('SPOT')\n",
    "DataSpotify"
   ]
  },
  {
   "cell_type": "code",
   "execution_count": 5,
   "metadata": {},
   "outputs": [
    {
     "data": {
      "text/html": [
       "<div>\n",
       "<style scoped>\n",
       "    .dataframe tbody tr th:only-of-type {\n",
       "        vertical-align: middle;\n",
       "    }\n",
       "\n",
       "    .dataframe tbody tr th {\n",
       "        vertical-align: top;\n",
       "    }\n",
       "\n",
       "    .dataframe thead th {\n",
       "        text-align: right;\n",
       "    }\n",
       "</style>\n",
       "<table border=\"1\" class=\"dataframe\">\n",
       "  <thead>\n",
       "    <tr style=\"text-align: right;\">\n",
       "      <th></th>\n",
       "      <th>Open</th>\n",
       "      <th>High</th>\n",
       "      <th>Low</th>\n",
       "      <th>Close</th>\n",
       "      <th>Volume</th>\n",
       "      <th>Dividends</th>\n",
       "      <th>Stock Splits</th>\n",
       "    </tr>\n",
       "    <tr>\n",
       "      <th>Date</th>\n",
       "      <th></th>\n",
       "      <th></th>\n",
       "      <th></th>\n",
       "      <th></th>\n",
       "      <th></th>\n",
       "      <th></th>\n",
       "      <th></th>\n",
       "    </tr>\n",
       "  </thead>\n",
       "  <tbody>\n",
       "    <tr>\n",
       "      <th>2019-01-02</th>\n",
       "      <td>111.660004</td>\n",
       "      <td>115.629997</td>\n",
       "      <td>110.360001</td>\n",
       "      <td>113.739998</td>\n",
       "      <td>861100</td>\n",
       "      <td>0</td>\n",
       "      <td>0</td>\n",
       "    </tr>\n",
       "    <tr>\n",
       "      <th>2019-01-03</th>\n",
       "      <td>112.080002</td>\n",
       "      <td>113.345001</td>\n",
       "      <td>108.589996</td>\n",
       "      <td>109.019997</td>\n",
       "      <td>1082300</td>\n",
       "      <td>0</td>\n",
       "      <td>0</td>\n",
       "    </tr>\n",
       "    <tr>\n",
       "      <th>2019-01-04</th>\n",
       "      <td>112.059998</td>\n",
       "      <td>121.470001</td>\n",
       "      <td>111.500000</td>\n",
       "      <td>118.510002</td>\n",
       "      <td>2484800</td>\n",
       "      <td>0</td>\n",
       "      <td>0</td>\n",
       "    </tr>\n",
       "    <tr>\n",
       "      <th>2019-01-07</th>\n",
       "      <td>115.040001</td>\n",
       "      <td>123.865997</td>\n",
       "      <td>113.279999</td>\n",
       "      <td>119.360001</td>\n",
       "      <td>2516200</td>\n",
       "      <td>0</td>\n",
       "      <td>0</td>\n",
       "    </tr>\n",
       "    <tr>\n",
       "      <th>2019-01-08</th>\n",
       "      <td>121.440002</td>\n",
       "      <td>122.769997</td>\n",
       "      <td>114.699997</td>\n",
       "      <td>117.480003</td>\n",
       "      <td>1257100</td>\n",
       "      <td>0</td>\n",
       "      <td>0</td>\n",
       "    </tr>\n",
       "    <tr>\n",
       "      <th>...</th>\n",
       "      <td>...</td>\n",
       "      <td>...</td>\n",
       "      <td>...</td>\n",
       "      <td>...</td>\n",
       "      <td>...</td>\n",
       "      <td>...</td>\n",
       "      <td>...</td>\n",
       "    </tr>\n",
       "    <tr>\n",
       "      <th>2023-03-02</th>\n",
       "      <td>115.059998</td>\n",
       "      <td>119.010002</td>\n",
       "      <td>114.639999</td>\n",
       "      <td>118.480003</td>\n",
       "      <td>870000</td>\n",
       "      <td>0</td>\n",
       "      <td>0</td>\n",
       "    </tr>\n",
       "    <tr>\n",
       "      <th>2023-03-03</th>\n",
       "      <td>119.599998</td>\n",
       "      <td>123.900002</td>\n",
       "      <td>119.540001</td>\n",
       "      <td>123.739998</td>\n",
       "      <td>1779200</td>\n",
       "      <td>0</td>\n",
       "      <td>0</td>\n",
       "    </tr>\n",
       "    <tr>\n",
       "      <th>2023-03-06</th>\n",
       "      <td>124.040001</td>\n",
       "      <td>128.320007</td>\n",
       "      <td>124.040001</td>\n",
       "      <td>126.379997</td>\n",
       "      <td>2092500</td>\n",
       "      <td>0</td>\n",
       "      <td>0</td>\n",
       "    </tr>\n",
       "    <tr>\n",
       "      <th>2023-03-07</th>\n",
       "      <td>127.110001</td>\n",
       "      <td>129.600006</td>\n",
       "      <td>125.070000</td>\n",
       "      <td>126.330002</td>\n",
       "      <td>2110300</td>\n",
       "      <td>0</td>\n",
       "      <td>0</td>\n",
       "    </tr>\n",
       "    <tr>\n",
       "      <th>2023-03-08</th>\n",
       "      <td>126.000000</td>\n",
       "      <td>127.639999</td>\n",
       "      <td>124.745003</td>\n",
       "      <td>126.989998</td>\n",
       "      <td>1272700</td>\n",
       "      <td>0</td>\n",
       "      <td>0</td>\n",
       "    </tr>\n",
       "  </tbody>\n",
       "</table>\n",
       "<p>1053 rows × 7 columns</p>\n",
       "</div>"
      ],
      "text/plain": [
       "                  Open        High         Low       Close   Volume  \\\n",
       "Date                                                                  \n",
       "2019-01-02  111.660004  115.629997  110.360001  113.739998   861100   \n",
       "2019-01-03  112.080002  113.345001  108.589996  109.019997  1082300   \n",
       "2019-01-04  112.059998  121.470001  111.500000  118.510002  2484800   \n",
       "2019-01-07  115.040001  123.865997  113.279999  119.360001  2516200   \n",
       "2019-01-08  121.440002  122.769997  114.699997  117.480003  1257100   \n",
       "...                ...         ...         ...         ...      ...   \n",
       "2023-03-02  115.059998  119.010002  114.639999  118.480003   870000   \n",
       "2023-03-03  119.599998  123.900002  119.540001  123.739998  1779200   \n",
       "2023-03-06  124.040001  128.320007  124.040001  126.379997  2092500   \n",
       "2023-03-07  127.110001  129.600006  125.070000  126.330002  2110300   \n",
       "2023-03-08  126.000000  127.639999  124.745003  126.989998  1272700   \n",
       "\n",
       "            Dividends  Stock Splits  \n",
       "Date                                 \n",
       "2019-01-02          0             0  \n",
       "2019-01-03          0             0  \n",
       "2019-01-04          0             0  \n",
       "2019-01-07          0             0  \n",
       "2019-01-08          0             0  \n",
       "...               ...           ...  \n",
       "2023-03-02          0             0  \n",
       "2023-03-03          0             0  \n",
       "2023-03-06          0             0  \n",
       "2023-03-07          0             0  \n",
       "2023-03-08          0             0  \n",
       "\n",
       "[1053 rows x 7 columns]"
      ]
     },
     "execution_count": 5,
     "metadata": {},
     "output_type": "execute_result"
    }
   ],
   "source": [
    "# Recuperar el histórico de spotify para analizar el comportamiento previo de Spotify.\n",
    "SpotifyHist = DataSpotify.history(start = '2019-1-1', end = '2023-3-9', interval = '1d') # Frecuencia diaria.\n",
    "SpotifyHist"
   ]
  },
  {
   "cell_type": "markdown",
   "metadata": {
    "id": "qVrYEOOxFGJs"
   },
   "source": [
    "Descripción:\n",
    "\n",
    "* En el comercio de acciones, 'alto' y 'bajo' se refieren a los precios máximos y mínimos en un período determinado.\n",
    "* 'Apertura' y 'cierre' son los precios en los que una acción comenzó y terminó cotizando en el mismo período. \n",
    "* El 'volumen' es la cantidad total de la actividad comercial. \n",
    "* Los valores ajustados tienen en cuenta las acciones corporativas, como los 'dividendos', la 'división de acciones' y la emisión de nuevas acciones."
   ]
  },
  {
   "cell_type": "code",
   "execution_count": 6,
   "metadata": {
    "colab": {
     "base_uri": "https://localhost:8080/",
     "height": 653
    },
    "id": "vZohACVGEzMr",
    "outputId": "899e5045-fc7d-42dc-865d-15ebb0dd8160"
   },
   "outputs": [
    {
     "data": {
      "text/html": [
       "<div>\n",
       "<style scoped>\n",
       "    .dataframe tbody tr th:only-of-type {\n",
       "        vertical-align: middle;\n",
       "    }\n",
       "\n",
       "    .dataframe tbody tr th {\n",
       "        vertical-align: top;\n",
       "    }\n",
       "\n",
       "    .dataframe thead th {\n",
       "        text-align: right;\n",
       "    }\n",
       "</style>\n",
       "<table border=\"1\" class=\"dataframe\">\n",
       "  <thead>\n",
       "    <tr style=\"text-align: right;\">\n",
       "      <th></th>\n",
       "      <th>Open</th>\n",
       "      <th>High</th>\n",
       "      <th>Low</th>\n",
       "      <th>Close</th>\n",
       "      <th>Volume</th>\n",
       "      <th>Dividends</th>\n",
       "      <th>Stock Splits</th>\n",
       "    </tr>\n",
       "    <tr>\n",
       "      <th>Date</th>\n",
       "      <th></th>\n",
       "      <th></th>\n",
       "      <th></th>\n",
       "      <th></th>\n",
       "      <th></th>\n",
       "      <th></th>\n",
       "      <th></th>\n",
       "    </tr>\n",
       "  </thead>\n",
       "  <tbody>\n",
       "    <tr>\n",
       "      <th>2023-02-23</th>\n",
       "      <td>121.050003</td>\n",
       "      <td>121.699997</td>\n",
       "      <td>116.500000</td>\n",
       "      <td>118.860001</td>\n",
       "      <td>1356600</td>\n",
       "      <td>0</td>\n",
       "      <td>0</td>\n",
       "    </tr>\n",
       "    <tr>\n",
       "      <th>2023-02-24</th>\n",
       "      <td>116.440002</td>\n",
       "      <td>117.410004</td>\n",
       "      <td>114.900002</td>\n",
       "      <td>117.139999</td>\n",
       "      <td>1612200</td>\n",
       "      <td>0</td>\n",
       "      <td>0</td>\n",
       "    </tr>\n",
       "    <tr>\n",
       "      <th>2023-02-27</th>\n",
       "      <td>117.760002</td>\n",
       "      <td>118.500000</td>\n",
       "      <td>115.480003</td>\n",
       "      <td>116.839996</td>\n",
       "      <td>1593700</td>\n",
       "      <td>0</td>\n",
       "      <td>0</td>\n",
       "    </tr>\n",
       "    <tr>\n",
       "      <th>2023-02-28</th>\n",
       "      <td>116.480003</td>\n",
       "      <td>119.389999</td>\n",
       "      <td>116.218002</td>\n",
       "      <td>116.300003</td>\n",
       "      <td>1198600</td>\n",
       "      <td>0</td>\n",
       "      <td>0</td>\n",
       "    </tr>\n",
       "    <tr>\n",
       "      <th>2023-03-01</th>\n",
       "      <td>117.919998</td>\n",
       "      <td>118.224998</td>\n",
       "      <td>115.910004</td>\n",
       "      <td>117.199997</td>\n",
       "      <td>1314500</td>\n",
       "      <td>0</td>\n",
       "      <td>0</td>\n",
       "    </tr>\n",
       "    <tr>\n",
       "      <th>2023-03-02</th>\n",
       "      <td>115.059998</td>\n",
       "      <td>119.010002</td>\n",
       "      <td>114.639999</td>\n",
       "      <td>118.480003</td>\n",
       "      <td>870000</td>\n",
       "      <td>0</td>\n",
       "      <td>0</td>\n",
       "    </tr>\n",
       "    <tr>\n",
       "      <th>2023-03-03</th>\n",
       "      <td>119.599998</td>\n",
       "      <td>123.900002</td>\n",
       "      <td>119.540001</td>\n",
       "      <td>123.739998</td>\n",
       "      <td>1779200</td>\n",
       "      <td>0</td>\n",
       "      <td>0</td>\n",
       "    </tr>\n",
       "    <tr>\n",
       "      <th>2023-03-06</th>\n",
       "      <td>124.040001</td>\n",
       "      <td>128.320007</td>\n",
       "      <td>124.040001</td>\n",
       "      <td>126.379997</td>\n",
       "      <td>2092500</td>\n",
       "      <td>0</td>\n",
       "      <td>0</td>\n",
       "    </tr>\n",
       "    <tr>\n",
       "      <th>2023-03-07</th>\n",
       "      <td>127.110001</td>\n",
       "      <td>129.600006</td>\n",
       "      <td>125.070000</td>\n",
       "      <td>126.330002</td>\n",
       "      <td>2110300</td>\n",
       "      <td>0</td>\n",
       "      <td>0</td>\n",
       "    </tr>\n",
       "    <tr>\n",
       "      <th>2023-03-08</th>\n",
       "      <td>126.000000</td>\n",
       "      <td>127.639999</td>\n",
       "      <td>124.745003</td>\n",
       "      <td>126.989998</td>\n",
       "      <td>1272700</td>\n",
       "      <td>0</td>\n",
       "      <td>0</td>\n",
       "    </tr>\n",
       "  </tbody>\n",
       "</table>\n",
       "</div>"
      ],
      "text/plain": [
       "                  Open        High         Low       Close   Volume  \\\n",
       "Date                                                                  \n",
       "2023-02-23  121.050003  121.699997  116.500000  118.860001  1356600   \n",
       "2023-02-24  116.440002  117.410004  114.900002  117.139999  1612200   \n",
       "2023-02-27  117.760002  118.500000  115.480003  116.839996  1593700   \n",
       "2023-02-28  116.480003  119.389999  116.218002  116.300003  1198600   \n",
       "2023-03-01  117.919998  118.224998  115.910004  117.199997  1314500   \n",
       "2023-03-02  115.059998  119.010002  114.639999  118.480003   870000   \n",
       "2023-03-03  119.599998  123.900002  119.540001  123.739998  1779200   \n",
       "2023-03-06  124.040001  128.320007  124.040001  126.379997  2092500   \n",
       "2023-03-07  127.110001  129.600006  125.070000  126.330002  2110300   \n",
       "2023-03-08  126.000000  127.639999  124.745003  126.989998  1272700   \n",
       "\n",
       "            Dividends  Stock Splits  \n",
       "Date                                 \n",
       "2023-02-23          0             0  \n",
       "2023-02-24          0             0  \n",
       "2023-02-27          0             0  \n",
       "2023-02-28          0             0  \n",
       "2023-03-01          0             0  \n",
       "2023-03-02          0             0  \n",
       "2023-03-03          0             0  \n",
       "2023-03-06          0             0  \n",
       "2023-03-07          0             0  \n",
       "2023-03-08          0             0  "
      ]
     },
     "execution_count": 6,
     "metadata": {},
     "output_type": "execute_result"
    }
   ],
   "source": [
    "SpotifyHist.tail(10)"
   ]
  },
  {
   "cell_type": "markdown",
   "metadata": {
    "id": "GcezVK6oH-uv"
   },
   "source": [
    "### **Paso 1: Descripción de la estructura de los datos**\n",
    "\n",
    "1) Forma (dimensiones) del DataFrame\n",
    "\n",
    "El atributo .shape de Pandas proporciona una estructura general de los datos. Devuelve la cantidad de filas y columnas que tiene el conjunto de datos."
   ]
  },
  {
   "cell_type": "code",
   "execution_count": 7,
   "metadata": {
    "colab": {
     "base_uri": "https://localhost:8080/"
    },
    "id": "PEqJIhlxIzVZ",
    "outputId": "31536880-d0c3-431d-824b-bd12f75deba0"
   },
   "outputs": [
    {
     "data": {
      "text/plain": [
       "(1053, 7)"
      ]
     },
     "execution_count": 7,
     "metadata": {},
     "output_type": "execute_result"
    }
   ],
   "source": [
    "SpotifyHist.shape"
   ]
  },
  {
   "cell_type": "markdown",
   "metadata": {
    "id": "8-cnllY2JTV1"
   },
   "source": [
    "2) Tipos de datos (variables)\n",
    "\n",
    "El atributo .dtypes muestra los tipos de datos de las columnas (variables y tipos)."
   ]
  },
  {
   "cell_type": "code",
   "execution_count": 8,
   "metadata": {
    "colab": {
     "base_uri": "https://localhost:8080/"
    },
    "id": "BFYuK9rQJXn6",
    "outputId": "7b135c22-3707-4fdf-eee1-ed0c018029b0"
   },
   "outputs": [
    {
     "data": {
      "text/plain": [
       "Open            float64\n",
       "High            float64\n",
       "Low             float64\n",
       "Close           float64\n",
       "Volume            int64\n",
       "Dividends         int64\n",
       "Stock Splits      int64\n",
       "dtype: object"
      ]
     },
     "execution_count": 8,
     "metadata": {},
     "output_type": "execute_result"
    }
   ],
   "source": [
    "SpotifyHist.dtypes"
   ]
  },
  {
   "cell_type": "markdown",
   "metadata": {
    "id": "LqPT5W0xJksm"
   },
   "source": [
    "Se observa que los datos son numéricos (flotante y entero)."
   ]
  },
  {
   "cell_type": "markdown",
   "metadata": {
    "id": "fbdpOwumIrDp"
   },
   "source": [
    "### **Paso 2: Identificación de datos faltantes**\n",
    "\n",
    "Una función útil de pandas es **.isnull().sum()** que regresa la suma de todos los valores nulos en cada variable."
   ]
  },
  {
   "cell_type": "code",
   "execution_count": 9,
   "metadata": {
    "colab": {
     "base_uri": "https://localhost:8080/"
    },
    "id": "nI1d8izYJ9ni",
    "outputId": "d08c826b-5972-47d5-faa1-dd70898465da"
   },
   "outputs": [
    {
     "data": {
      "text/plain": [
       "Open            0\n",
       "High            0\n",
       "Low             0\n",
       "Close           0\n",
       "Volume          0\n",
       "Dividends       0\n",
       "Stock Splits    0\n",
       "dtype: int64"
      ]
     },
     "execution_count": 9,
     "metadata": {},
     "output_type": "execute_result"
    }
   ],
   "source": [
    "SpotifyHist.isnull().sum()"
   ]
  },
  {
   "cell_type": "markdown",
   "metadata": {
    "id": "DSeHVLdbH9BF"
   },
   "source": [
    "También se puede usar **info()** para obtener el tipo de datos y la suma de valores nulos."
   ]
  },
  {
   "cell_type": "code",
   "execution_count": 10,
   "metadata": {
    "colab": {
     "base_uri": "https://localhost:8080/"
    },
    "id": "3i0-YIF0KMzF",
    "outputId": "63459b2f-7d13-4b99-846e-309b55c65933"
   },
   "outputs": [
    {
     "name": "stdout",
     "output_type": "stream",
     "text": [
      "<class 'pandas.core.frame.DataFrame'>\n",
      "DatetimeIndex: 1053 entries, 2019-01-02 to 2023-03-08\n",
      "Data columns (total 7 columns):\n",
      " #   Column        Non-Null Count  Dtype  \n",
      "---  ------        --------------  -----  \n",
      " 0   Open          1053 non-null   float64\n",
      " 1   High          1053 non-null   float64\n",
      " 2   Low           1053 non-null   float64\n",
      " 3   Close         1053 non-null   float64\n",
      " 4   Volume        1053 non-null   int64  \n",
      " 5   Dividends     1053 non-null   int64  \n",
      " 6   Stock Splits  1053 non-null   int64  \n",
      "dtypes: float64(4), int64(3)\n",
      "memory usage: 65.8 KB\n"
     ]
    }
   ],
   "source": [
    "SpotifyHist.info()"
   ]
  },
  {
   "cell_type": "markdown",
   "metadata": {
    "id": "3UFHKSG2It_D"
   },
   "source": [
    "### **Paso 3: Detección de valores atípicos**\n",
    "\n",
    "Se pueden utilizar gráficos para tener una idea general de las distribuciones de los datos, y se sacan estadísticas para resumir los datos. Estas dos estrategias son recomendables y se complementan.\n",
    "\n",
    "La distribución se refiere a cómo se distribuyen los valores en una variable o con qué frecuencia ocurren.\n",
    "\n",
    "Para las variables numéricas, se observa cuántas veces aparecen grupos de números en una columna. Mientras que para las variables categóricas, son las clases de cada columna y su frecuencia."
   ]
  },
  {
   "cell_type": "markdown",
   "metadata": {
    "id": "XXGWHIN8hcEk"
   },
   "source": [
    "**1) Distribución de variables numéricas**\n",
    "\n",
    "* Se utilizan histogramas que agrupan los números en rangos.\n",
    "* La altura de una barra muestra cuántos números caen en ese rango. \n",
    "* Se emplea **hist()** para trazar el histograma de las variables numéricas. También se pueden usar los parámetros: **figsize** y **xrot** para aumentar el tamaño de la cuadrícula y rotar el eje x 45 grados."
   ]
  },
  {
   "cell_type": "code",
   "execution_count": 11,
   "metadata": {
    "colab": {
     "base_uri": "https://localhost:8080/",
     "height": 844
    },
    "id": "gPZ2ls_VhqXm",
    "outputId": "32b2abab-d184-4f85-80e9-d78349f66a17"
   },
   "outputs": [
    {
     "data": {
      "image/png": "[encoded data removed]",
      "text/plain": [
       "<Figure size 1008x1008 with 9 Axes>"
      ]
     },
     "metadata": {
      "needs_background": "light"
     },
     "output_type": "display_data"
    }
   ],
   "source": [
    "# Análisis de las distribuciones en los parámetros de las acciones. En x el número de registros y en Y el valor alcanzado.\n",
    "# Se observa una muy alta correlación entre las variables con base en las gráficas previas. Stock Splits y Divs no aportan información útil.\n",
    "SpotifyHist.hist(figsize=(14,14), xrot=45)\n",
    "plt.show()"
   ]
  },
  {
   "cell_type": "markdown",
   "metadata": {
    "id": "Png--NKNigVz"
   },
   "source": [
    "**Qué buscar:**\n",
    "\n",
    "* Posibles valores atípicos, que pueden ser errores de medición.\n",
    "* Límites que no tienen sentido, como valores porcentuales > 100.\n",
    "\n",
    "En el histograma se observa que **Volume** tiene valores sesgados a la izquierda. Las variables **Dividens** y **Stock Splits** presentan valores en 'cero'."
   ]
  },
  {
   "cell_type": "markdown",
   "metadata": {
    "id": "kcoFF4zwi5Z3"
   },
   "source": [
    "**2) Resumen estadístico de variables numéricas**\n",
    "\n",
    "Se sacan estadísticas usando **describe()** que muestra un resumen estadístico de las variables numéricas."
   ]
  },
  {
   "cell_type": "code",
   "execution_count": 12,
   "metadata": {
    "colab": {
     "base_uri": "https://localhost:8080/",
     "height": 364
    },
    "id": "iMYq7Xjki6_0",
    "outputId": "98060c12-ceda-41f2-835a-ccf8becc5f8f"
   },
   "outputs": [
    {
     "data": {
      "text/html": [
       "<div>\n",
       "<style scoped>\n",
       "    .dataframe tbody tr th:only-of-type {\n",
       "        vertical-align: middle;\n",
       "    }\n",
       "\n",
       "    .dataframe tbody tr th {\n",
       "        vertical-align: top;\n",
       "    }\n",
       "\n",
       "    .dataframe thead th {\n",
       "        text-align: right;\n",
       "    }\n",
       "</style>\n",
       "<table border=\"1\" class=\"dataframe\">\n",
       "  <thead>\n",
       "    <tr style=\"text-align: right;\">\n",
       "      <th></th>\n",
       "      <th>Open</th>\n",
       "      <th>High</th>\n",
       "      <th>Low</th>\n",
       "      <th>Close</th>\n",
       "      <th>Volume</th>\n",
       "      <th>Dividends</th>\n",
       "      <th>Stock Splits</th>\n",
       "    </tr>\n",
       "  </thead>\n",
       "  <tbody>\n",
       "    <tr>\n",
       "      <th>count</th>\n",
       "      <td>1053.000000</td>\n",
       "      <td>1053.000000</td>\n",
       "      <td>1053.000000</td>\n",
       "      <td>1053.000000</td>\n",
       "      <td>1.053000e+03</td>\n",
       "      <td>1053.0</td>\n",
       "      <td>1053.0</td>\n",
       "    </tr>\n",
       "    <tr>\n",
       "      <th>mean</th>\n",
       "      <td>179.942175</td>\n",
       "      <td>183.671395</td>\n",
       "      <td>176.200273</td>\n",
       "      <td>179.990465</td>\n",
       "      <td>1.767046e+06</td>\n",
       "      <td>0.0</td>\n",
       "      <td>0.0</td>\n",
       "    </tr>\n",
       "    <tr>\n",
       "      <th>std</th>\n",
       "      <td>72.073678</td>\n",
       "      <td>73.567036</td>\n",
       "      <td>70.418072</td>\n",
       "      <td>71.968640</td>\n",
       "      <td>1.314927e+06</td>\n",
       "      <td>0.0</td>\n",
       "      <td>0.0</td>\n",
       "    </tr>\n",
       "    <tr>\n",
       "      <th>min</th>\n",
       "      <td>71.930000</td>\n",
       "      <td>72.330002</td>\n",
       "      <td>69.285004</td>\n",
       "      <td>71.050003</td>\n",
       "      <td>3.945000e+05</td>\n",
       "      <td>0.0</td>\n",
       "      <td>0.0</td>\n",
       "    </tr>\n",
       "    <tr>\n",
       "      <th>25%</th>\n",
       "      <td>124.089996</td>\n",
       "      <td>126.440002</td>\n",
       "      <td>121.449997</td>\n",
       "      <td>124.290001</td>\n",
       "      <td>1.076800e+06</td>\n",
       "      <td>0.0</td>\n",
       "      <td>0.0</td>\n",
       "    </tr>\n",
       "    <tr>\n",
       "      <th>50%</th>\n",
       "      <td>148.779999</td>\n",
       "      <td>150.809998</td>\n",
       "      <td>146.229996</td>\n",
       "      <td>148.520004</td>\n",
       "      <td>1.411300e+06</td>\n",
       "      <td>0.0</td>\n",
       "      <td>0.0</td>\n",
       "    </tr>\n",
       "    <tr>\n",
       "      <th>75%</th>\n",
       "      <td>244.669998</td>\n",
       "      <td>248.389999</td>\n",
       "      <td>239.600006</td>\n",
       "      <td>243.639999</td>\n",
       "      <td>1.996600e+06</td>\n",
       "      <td>0.0</td>\n",
       "      <td>0.0</td>\n",
       "    </tr>\n",
       "    <tr>\n",
       "      <th>max</th>\n",
       "      <td>360.910004</td>\n",
       "      <td>387.440002</td>\n",
       "      <td>354.178009</td>\n",
       "      <td>364.589996</td>\n",
       "      <td>1.404930e+07</td>\n",
       "      <td>0.0</td>\n",
       "      <td>0.0</td>\n",
       "    </tr>\n",
       "  </tbody>\n",
       "</table>\n",
       "</div>"
      ],
      "text/plain": [
       "              Open         High          Low        Close        Volume  \\\n",
       "count  1053.000000  1053.000000  1053.000000  1053.000000  1.053000e+03   \n",
       "mean    179.942175   183.671395   176.200273   179.990465  1.767046e+06   \n",
       "std      72.073678    73.567036    70.418072    71.968640  1.314927e+06   \n",
       "min      71.930000    72.330002    69.285004    71.050003  3.945000e+05   \n",
       "25%     124.089996   126.440002   121.449997   124.290001  1.076800e+06   \n",
       "50%     148.779999   150.809998   146.229996   148.520004  1.411300e+06   \n",
       "75%     244.669998   248.389999   239.600006   243.639999  1.996600e+06   \n",
       "max     360.910004   387.440002   354.178009   364.589996  1.404930e+07   \n",
       "\n",
       "       Dividends  Stock Splits  \n",
       "count     1053.0        1053.0  \n",
       "mean         0.0           0.0  \n",
       "std          0.0           0.0  \n",
       "min          0.0           0.0  \n",
       "25%          0.0           0.0  \n",
       "50%          0.0           0.0  \n",
       "75%          0.0           0.0  \n",
       "max          0.0           0.0  "
      ]
     },
     "execution_count": 12,
     "metadata": {},
     "output_type": "execute_result"
    }
   ],
   "source": [
    "SpotifyHist.describe()"
   ]
  },
  {
   "cell_type": "markdown",
   "metadata": {
    "id": "xM7pCf-VjHfX"
   },
   "source": [
    "* Se incluye un recuento, media, desviación, valor mínimo, valor máximo, percentil inferior (25%), 50% y percentil superior (75%).\n",
    "* Por defecto, el percentil 50 es lo mismo que la mediana.\n",
    "* Se observa que para cada variable, el recuento también ayuda a identificar variables con valores nulos o vacios. Estos son: **Dividends** y **Stock Splits**."
   ]
  },
  {
   "cell_type": "markdown",
   "metadata": {
    "id": "PcOVoZsvjToG"
   },
   "source": [
    "**3) Diagramas para detectar posibles valores atípicos**\n",
    "\n",
    "Para este tipo de gráficos se utiliza **Seaborn**, que permite generar diagramas de cajas para detectar valores atípicos."
   ]
  },
  {
   "cell_type": "code",
   "execution_count": 19,
   "metadata": {
    "colab": {
     "base_uri": "https://localhost:8080/",
     "height": 1000
    },
    "id": "ANZprC0sjhgu",
    "outputId": "034b1488-8f75-44fb-838b-8786a84dc350"
   },
   "outputs": [
    {
     "name": "stderr",
     "output_type": "stream",
     "text": [
      "/Users/guillermo-molero/opt/anaconda3/lib/python3.9/site-packages/seaborn/_decorators.py:36: FutureWarning: Pass the following variable as a keyword arg: x. From version 0.12, the only valid positional argument will be `data`, and passing other arguments without an explicit keyword will result in an error or misinterpretation.\n",
      "  warnings.warn(\n"
     ]
    },
    {
     "data": {
      "image/png": "[encoded data removed]",
      "text/plain": [
       "<Figure size 432x288 with 1 Axes>"
      ]
     },
     "metadata": {
      "needs_background": "light"
     },
     "output_type": "display_data"
    },
    {
     "name": "stderr",
     "output_type": "stream",
     "text": [
      "/Users/guillermo-molero/opt/anaconda3/lib/python3.9/site-packages/seaborn/_decorators.py:36: FutureWarning: Pass the following variable as a keyword arg: x. From version 0.12, the only valid positional argument will be `data`, and passing other arguments without an explicit keyword will result in an error or misinterpretation.\n",
      "  warnings.warn(\n"
     ]
    },
    {
     "data": {
      "image/png": "[encoded data removed]",
      "text/plain": [
       "<Figure size 432x288 with 1 Axes>"
      ]
     },
     "metadata": {
      "needs_background": "light"
     },
     "output_type": "display_data"
    },
    {
     "name": "stderr",
     "output_type": "stream",
     "text": [
      "/Users/guillermo-molero/opt/anaconda3/lib/python3.9/site-packages/seaborn/_decorators.py:36: FutureWarning: Pass the following variable as a keyword arg: x. From version 0.12, the only valid positional argument will be `data`, and passing other arguments without an explicit keyword will result in an error or misinterpretation.\n",
      "  warnings.warn(\n"
     ]
    },
    {
     "data": {
      "image/png": "[encoded data removed]",
      "text/plain": [
       "<Figure size 432x288 with 1 Axes>"
      ]
     },
     "metadata": {
      "needs_background": "light"
     },
     "output_type": "display_data"
    },
    {
     "name": "stderr",
     "output_type": "stream",
     "text": [
      "/Users/guillermo-molero/opt/anaconda3/lib/python3.9/site-packages/seaborn/_decorators.py:36: FutureWarning: Pass the following variable as a keyword arg: x. From version 0.12, the only valid positional argument will be `data`, and passing other arguments without an explicit keyword will result in an error or misinterpretation.\n",
      "  warnings.warn(\n"
     ]
    },
    {
     "data": {
      "image/png": "[encoded data removed]",
      "text/plain": [
       "<Figure size 432x288 with 1 Axes>"
      ]
     },
     "metadata": {
      "needs_background": "light"
     },
     "output_type": "display_data"
    },
    {
     "name": "stderr",
     "output_type": "stream",
     "text": [
      "/Users/guillermo-molero/opt/anaconda3/lib/python3.9/site-packages/seaborn/_decorators.py:36: FutureWarning: Pass the following variable as a keyword arg: x. From version 0.12, the only valid positional argument will be `data`, and passing other arguments without an explicit keyword will result in an error or misinterpretation.\n",
      "  warnings.warn(\n"
     ]
    },
    {
     "data": {
      "image/png": "[encoded data removed]",
      "text/plain": [
       "<Figure size 432x288 with 1 Axes>"
      ]
     },
     "metadata": {
      "needs_background": "light"
     },
     "output_type": "display_data"
    }
   ],
   "source": [
    "VariablesValoresAtipicos = ['Open', 'High', 'Low', 'Close', 'Volume']\n",
    "for col in VariablesValoresAtipicos:\n",
    "  sns.boxplot(col, data=SpotifyHist)\n",
    "  plt.show()"
   ]
  },
  {
   "attachments": {},
   "cell_type": "markdown",
   "metadata": {
    "id": "l8cl8XN6oq1-"
   },
   "source": [
    "Se observa que en Volume se tienen valores atípicos que están lejos de los otros valores. ¿Pero son valores realmente atípicos? "
   ]
  },
  {
   "cell_type": "markdown",
   "metadata": {
    "id": "44ZG1kAGmInT"
   },
   "source": [
    "**3. Plot**\n",
    "\n",
    "* Para este tipo de gráficos se utiliza Seaborn, que permite generar un histograma para variables categóricas. Cada barra en el gráfico de conteo representa una clase.\n",
    "* Se crea un bucle para el conteo y distribución de las clases. La sentencia select_dtypes(include = ’object’) selecciona las columnas categóricas con sus valores y las muestra.\n",
    "* Se incluye también If para elegir solo las tres columnas con 10 o menos clases usando series.**nunique() < 10**.\n"
   ]
  },
  {
   "cell_type": "code",
   "execution_count": 14,
   "metadata": {
    "colab": {
     "base_uri": "https://localhost:8080/",
     "height": 803
    },
    "id": "g2Yd8brJnSl1",
    "outputId": "9c450085-5f8c-46a2-8bbc-3ebe4f67de2e"
   },
   "outputs": [
    {
     "data": {
      "image/png": "[encoded data removed]",
      "text/plain": [
       "<Figure size 1440x360 with 1 Axes>"
      ]
     },
     "metadata": {
      "needs_background": "light"
     },
     "output_type": "display_data"
    }
   ],
   "source": [
    "# Mostramos apertura y cierre. Nótese la tendencia marcada por el inicio y el fin de la pandemia.\n",
    "plt.figure(figsize=(20, 5))\n",
    "plt.plot(SpotifyHist['Open'], color='red', marker='+', label='Open')\n",
    "plt.plot(SpotifyHist['Close'], color='blue', marker='+', label='Close')\n",
    "plt.xlabel('Fecha')\n",
    "plt.ylabel('Precio de las acciones')\n",
    "plt.title('Spotify')\n",
    "plt.grid(True)\n",
    "plt.legend()\n",
    "plt.show()"
   ]
  },
  {
   "cell_type": "markdown",
   "metadata": {
    "id": "koHr8LNKIwc8"
   },
   "source": [
    "### **Paso 4: Identificación de relaciones entre pares variables**\n",
    "\n",
    "Una matriz de correlaciones es útil para analizar la relación entre las variables numéricas.\n",
    "Se emplea la función corr()"
   ]
  },
  {
   "cell_type": "code",
   "execution_count": 15,
   "metadata": {
    "colab": {
     "base_uri": "https://localhost:8080/",
     "height": 501
    },
    "id": "RT2Uqg7c0K2U",
    "outputId": "d798df13-59d5-4fd9-a5c9-00dcda4e7596"
   },
   "outputs": [
    {
     "data": {
      "text/html": [
       "<div>\n",
       "<style scoped>\n",
       "    .dataframe tbody tr th:only-of-type {\n",
       "        vertical-align: middle;\n",
       "    }\n",
       "\n",
       "    .dataframe tbody tr th {\n",
       "        vertical-align: top;\n",
       "    }\n",
       "\n",
       "    .dataframe thead th {\n",
       "        text-align: right;\n",
       "    }\n",
       "</style>\n",
       "<table border=\"1\" class=\"dataframe\">\n",
       "  <thead>\n",
       "    <tr style=\"text-align: right;\">\n",
       "      <th></th>\n",
       "      <th>Open</th>\n",
       "      <th>High</th>\n",
       "      <th>Low</th>\n",
       "      <th>Close</th>\n",
       "      <th>Volume</th>\n",
       "      <th>Dividends</th>\n",
       "      <th>Stock Splits</th>\n",
       "    </tr>\n",
       "  </thead>\n",
       "  <tbody>\n",
       "    <tr>\n",
       "      <th>Open</th>\n",
       "      <td>1.000000</td>\n",
       "      <td>0.998676</td>\n",
       "      <td>0.998790</td>\n",
       "      <td>0.997241</td>\n",
       "      <td>-0.045635</td>\n",
       "      <td>NaN</td>\n",
       "      <td>NaN</td>\n",
       "    </tr>\n",
       "    <tr>\n",
       "      <th>High</th>\n",
       "      <td>0.998676</td>\n",
       "      <td>1.000000</td>\n",
       "      <td>0.998523</td>\n",
       "      <td>0.998804</td>\n",
       "      <td>-0.026099</td>\n",
       "      <td>NaN</td>\n",
       "      <td>NaN</td>\n",
       "    </tr>\n",
       "    <tr>\n",
       "      <th>Low</th>\n",
       "      <td>0.998790</td>\n",
       "      <td>0.998523</td>\n",
       "      <td>1.000000</td>\n",
       "      <td>0.998751</td>\n",
       "      <td>-0.054381</td>\n",
       "      <td>NaN</td>\n",
       "      <td>NaN</td>\n",
       "    </tr>\n",
       "    <tr>\n",
       "      <th>Close</th>\n",
       "      <td>0.997241</td>\n",
       "      <td>0.998804</td>\n",
       "      <td>0.998751</td>\n",
       "      <td>1.000000</td>\n",
       "      <td>-0.037701</td>\n",
       "      <td>NaN</td>\n",
       "      <td>NaN</td>\n",
       "    </tr>\n",
       "    <tr>\n",
       "      <th>Volume</th>\n",
       "      <td>-0.045635</td>\n",
       "      <td>-0.026099</td>\n",
       "      <td>-0.054381</td>\n",
       "      <td>-0.037701</td>\n",
       "      <td>1.000000</td>\n",
       "      <td>NaN</td>\n",
       "      <td>NaN</td>\n",
       "    </tr>\n",
       "    <tr>\n",
       "      <th>Dividends</th>\n",
       "      <td>NaN</td>\n",
       "      <td>NaN</td>\n",
       "      <td>NaN</td>\n",
       "      <td>NaN</td>\n",
       "      <td>NaN</td>\n",
       "      <td>NaN</td>\n",
       "      <td>NaN</td>\n",
       "    </tr>\n",
       "    <tr>\n",
       "      <th>Stock Splits</th>\n",
       "      <td>NaN</td>\n",
       "      <td>NaN</td>\n",
       "      <td>NaN</td>\n",
       "      <td>NaN</td>\n",
       "      <td>NaN</td>\n",
       "      <td>NaN</td>\n",
       "      <td>NaN</td>\n",
       "    </tr>\n",
       "  </tbody>\n",
       "</table>\n",
       "</div>"
      ],
      "text/plain": [
       "                  Open      High       Low     Close    Volume  Dividends  \\\n",
       "Open          1.000000  0.998676  0.998790  0.997241 -0.045635        NaN   \n",
       "High          0.998676  1.000000  0.998523  0.998804 -0.026099        NaN   \n",
       "Low           0.998790  0.998523  1.000000  0.998751 -0.054381        NaN   \n",
       "Close         0.997241  0.998804  0.998751  1.000000 -0.037701        NaN   \n",
       "Volume       -0.045635 -0.026099 -0.054381 -0.037701  1.000000        NaN   \n",
       "Dividends          NaN       NaN       NaN       NaN       NaN        NaN   \n",
       "Stock Splits       NaN       NaN       NaN       NaN       NaN        NaN   \n",
       "\n",
       "              Stock Splits  \n",
       "Open                   NaN  \n",
       "High                   NaN  \n",
       "Low                    NaN  \n",
       "Close                  NaN  \n",
       "Volume                 NaN  \n",
       "Dividends              NaN  \n",
       "Stock Splits           NaN  "
      ]
     },
     "execution_count": 15,
     "metadata": {},
     "output_type": "execute_result"
    }
   ],
   "source": [
    "SpotifyHist.corr()"
   ]
  },
  {
   "cell_type": "code",
   "execution_count": 16,
   "metadata": {
    "colab": {
     "base_uri": "https://localhost:8080/",
     "height": 493
    },
    "id": "WxRCmEDNv2va",
    "outputId": "bd8cbaf3-9bfe-49a5-b023-88eac0d15152"
   },
   "outputs": [
    {
     "data": {
      "image/png": "[encoded data removed]",
      "text/plain": [
       "<Figure size 1008x504 with 2 Axes>"
      ]
     },
     "metadata": {
      "needs_background": "light"
     },
     "output_type": "display_data"
    }
   ],
   "source": [
    "plt.figure(figsize=(14,7))\n",
    "sns.heatmap(SpotifyHist.corr(), cmap='RdBu_r', annot=True)\n",
    "plt.show()\n",
    "\n",
    "#¿Qué variables dejar y cuáles eliminar? "
   ]
  },
  {
   "cell_type": "code",
   "execution_count": 17,
   "metadata": {
    "colab": {
     "base_uri": "https://localhost:8080/",
     "height": 489
    },
    "id": "ZYoVHKJENzJ4",
    "outputId": "f073f3b6-0e9f-4044-abcd-f5ddd0e86a78"
   },
   "outputs": [
    {
     "data": {
      "image/png": "[encoded data removed]",
      "text/plain": [
       "<Figure size 1008x504 with 2 Axes>"
      ]
     },
     "metadata": {
      "needs_background": "light"
     },
     "output_type": "display_data"
    }
   ],
   "source": [
    "plt.figure(figsize=(14,7))\n",
    "MatrizInf = np.triu(SpotifyHist.corr())\n",
    "sns.heatmap(SpotifyHist.corr(), cmap='RdBu_r', annot=True, mask=MatrizInf)\n",
    "plt.show()"
   ]
  },
  {
   "cell_type": "markdown",
   "metadata": {
    "id": "O3EFccfqTUz8"
   },
   "source": [
    "* Una correlación es un valor entre -1 y 1 que equivale a qué tan cerca se mueven simultáneamente los valores de dos variables. \n",
    "* Una correlación positiva significa que a medida que una característica aumenta, la otra también aumenta.\n",
    "* Una correlación negativa significa que a medida que una característica disminuye, la otra también disminuye. \n",
    "* Las correlaciones cercanas a 0 indican una relación débil, mientras que las más cercanas a -1 o 1 significan una relación fuerte.\n"
   ]
  },
  {
   "cell_type": "markdown",
   "metadata": {},
   "source": [
    "### Se incluyen otras fuentes de datos"
   ]
  },
  {
   "cell_type": "code",
   "execution_count": 20,
   "metadata": {},
   "outputs": [],
   "source": [
    "# Para Facebook\n",
    "DataFacebook = yf.Ticker('META')"
   ]
  },
  {
   "cell_type": "code",
   "execution_count": 21,
   "metadata": {},
   "outputs": [
    {
     "data": {
      "text/html": [
       "<div>\n",
       "<style scoped>\n",
       "    .dataframe tbody tr th:only-of-type {\n",
       "        vertical-align: middle;\n",
       "    }\n",
       "\n",
       "    .dataframe tbody tr th {\n",
       "        vertical-align: top;\n",
       "    }\n",
       "\n",
       "    .dataframe thead th {\n",
       "        text-align: right;\n",
       "    }\n",
       "</style>\n",
       "<table border=\"1\" class=\"dataframe\">\n",
       "  <thead>\n",
       "    <tr style=\"text-align: right;\">\n",
       "      <th></th>\n",
       "      <th>Open</th>\n",
       "      <th>High</th>\n",
       "      <th>Low</th>\n",
       "      <th>Close</th>\n",
       "      <th>Volume</th>\n",
       "      <th>Dividends</th>\n",
       "      <th>Stock Splits</th>\n",
       "    </tr>\n",
       "    <tr>\n",
       "      <th>Date</th>\n",
       "      <th></th>\n",
       "      <th></th>\n",
       "      <th></th>\n",
       "      <th></th>\n",
       "      <th></th>\n",
       "      <th></th>\n",
       "      <th></th>\n",
       "    </tr>\n",
       "  </thead>\n",
       "  <tbody>\n",
       "    <tr>\n",
       "      <th>2019-01-02</th>\n",
       "      <td>128.990005</td>\n",
       "      <td>137.509995</td>\n",
       "      <td>128.559998</td>\n",
       "      <td>135.679993</td>\n",
       "      <td>28146200</td>\n",
       "      <td>0</td>\n",
       "      <td>0</td>\n",
       "    </tr>\n",
       "    <tr>\n",
       "      <th>2019-01-03</th>\n",
       "      <td>134.690002</td>\n",
       "      <td>137.169998</td>\n",
       "      <td>131.119995</td>\n",
       "      <td>131.740005</td>\n",
       "      <td>22717900</td>\n",
       "      <td>0</td>\n",
       "      <td>0</td>\n",
       "    </tr>\n",
       "    <tr>\n",
       "      <th>2019-01-04</th>\n",
       "      <td>134.009995</td>\n",
       "      <td>138.000000</td>\n",
       "      <td>133.750000</td>\n",
       "      <td>137.949997</td>\n",
       "      <td>29002100</td>\n",
       "      <td>0</td>\n",
       "      <td>0</td>\n",
       "    </tr>\n",
       "    <tr>\n",
       "      <th>2019-01-07</th>\n",
       "      <td>137.559998</td>\n",
       "      <td>138.869995</td>\n",
       "      <td>135.910004</td>\n",
       "      <td>138.050003</td>\n",
       "      <td>20089300</td>\n",
       "      <td>0</td>\n",
       "      <td>0</td>\n",
       "    </tr>\n",
       "    <tr>\n",
       "      <th>2019-01-08</th>\n",
       "      <td>139.889999</td>\n",
       "      <td>143.139999</td>\n",
       "      <td>139.539993</td>\n",
       "      <td>142.529999</td>\n",
       "      <td>26263800</td>\n",
       "      <td>0</td>\n",
       "      <td>0</td>\n",
       "    </tr>\n",
       "    <tr>\n",
       "      <th>...</th>\n",
       "      <td>...</td>\n",
       "      <td>...</td>\n",
       "      <td>...</td>\n",
       "      <td>...</td>\n",
       "      <td>...</td>\n",
       "      <td>...</td>\n",
       "      <td>...</td>\n",
       "    </tr>\n",
       "    <tr>\n",
       "      <th>2023-03-02</th>\n",
       "      <td>172.380005</td>\n",
       "      <td>175.009995</td>\n",
       "      <td>171.429993</td>\n",
       "      <td>174.529999</td>\n",
       "      <td>17352000</td>\n",
       "      <td>0</td>\n",
       "      <td>0</td>\n",
       "    </tr>\n",
       "    <tr>\n",
       "      <th>2023-03-03</th>\n",
       "      <td>178.919998</td>\n",
       "      <td>186.619995</td>\n",
       "      <td>177.050003</td>\n",
       "      <td>185.250000</td>\n",
       "      <td>45821600</td>\n",
       "      <td>0</td>\n",
       "      <td>0</td>\n",
       "    </tr>\n",
       "    <tr>\n",
       "      <th>2023-03-06</th>\n",
       "      <td>188.000000</td>\n",
       "      <td>189.660004</td>\n",
       "      <td>184.639999</td>\n",
       "      <td>184.899994</td>\n",
       "      <td>33209400</td>\n",
       "      <td>0</td>\n",
       "      <td>0</td>\n",
       "    </tr>\n",
       "    <tr>\n",
       "      <th>2023-03-07</th>\n",
       "      <td>189.000000</td>\n",
       "      <td>190.360001</td>\n",
       "      <td>184.009995</td>\n",
       "      <td>184.509995</td>\n",
       "      <td>36701500</td>\n",
       "      <td>0</td>\n",
       "      <td>0</td>\n",
       "    </tr>\n",
       "    <tr>\n",
       "      <th>2023-03-08</th>\n",
       "      <td>182.869995</td>\n",
       "      <td>185.259995</td>\n",
       "      <td>181.339996</td>\n",
       "      <td>184.970001</td>\n",
       "      <td>19432400</td>\n",
       "      <td>0</td>\n",
       "      <td>0</td>\n",
       "    </tr>\n",
       "  </tbody>\n",
       "</table>\n",
       "<p>1053 rows × 7 columns</p>\n",
       "</div>"
      ],
      "text/plain": [
       "                  Open        High         Low       Close    Volume  \\\n",
       "Date                                                                   \n",
       "2019-01-02  128.990005  137.509995  128.559998  135.679993  28146200   \n",
       "2019-01-03  134.690002  137.169998  131.119995  131.740005  22717900   \n",
       "2019-01-04  134.009995  138.000000  133.750000  137.949997  29002100   \n",
       "2019-01-07  137.559998  138.869995  135.910004  138.050003  20089300   \n",
       "2019-01-08  139.889999  143.139999  139.539993  142.529999  26263800   \n",
       "...                ...         ...         ...         ...       ...   \n",
       "2023-03-02  172.380005  175.009995  171.429993  174.529999  17352000   \n",
       "2023-03-03  178.919998  186.619995  177.050003  185.250000  45821600   \n",
       "2023-03-06  188.000000  189.660004  184.639999  184.899994  33209400   \n",
       "2023-03-07  189.000000  190.360001  184.009995  184.509995  36701500   \n",
       "2023-03-08  182.869995  185.259995  181.339996  184.970001  19432400   \n",
       "\n",
       "            Dividends  Stock Splits  \n",
       "Date                                 \n",
       "2019-01-02          0             0  \n",
       "2019-01-03          0             0  \n",
       "2019-01-04          0             0  \n",
       "2019-01-07          0             0  \n",
       "2019-01-08          0             0  \n",
       "...               ...           ...  \n",
       "2023-03-02          0             0  \n",
       "2023-03-03          0             0  \n",
       "2023-03-06          0             0  \n",
       "2023-03-07          0             0  \n",
       "2023-03-08          0             0  \n",
       "\n",
       "[1053 rows x 7 columns]"
      ]
     },
     "execution_count": 21,
     "metadata": {},
     "output_type": "execute_result"
    }
   ],
   "source": [
    "FacebookHist = DataFacebook.history(start = '2019-1-1', end = '2023-3-9', interval='1d')\n",
    "FacebookHist"
   ]
  },
  {
   "cell_type": "code",
   "execution_count": 22,
   "metadata": {},
   "outputs": [
    {
     "data": {
      "image/png": "[encoded data removed]",
      "text/plain": [
       "<Figure size 1440x360 with 1 Axes>"
      ]
     },
     "metadata": {
      "needs_background": "light"
     },
     "output_type": "display_data"
    }
   ],
   "source": [
    "plt.figure(figsize=(20, 5))\n",
    "plt.plot(FacebookHist['Open'], color='red', marker='+', label='Open')\n",
    "plt.plot(FacebookHist['Close'], color='blue', marker='+', label='Close')\n",
    "plt.xlabel('Fecha')\n",
    "plt.ylabel('Precio de las acciones')\n",
    "plt.title('Facebook')\n",
    "plt.grid(True)\n",
    "plt.legend()\n",
    "plt.show()"
   ]
  },
  {
   "cell_type": "code",
   "execution_count": 23,
   "metadata": {},
   "outputs": [],
   "source": [
    "# Para Amazon\n",
    "DataAmazon = yf.Ticker('AMZN')"
   ]
  },
  {
   "cell_type": "code",
   "execution_count": 25,
   "metadata": {},
   "outputs": [
    {
     "data": {
      "text/html": [
       "<div>\n",
       "<style scoped>\n",
       "    .dataframe tbody tr th:only-of-type {\n",
       "        vertical-align: middle;\n",
       "    }\n",
       "\n",
       "    .dataframe tbody tr th {\n",
       "        vertical-align: top;\n",
       "    }\n",
       "\n",
       "    .dataframe thead th {\n",
       "        text-align: right;\n",
       "    }\n",
       "</style>\n",
       "<table border=\"1\" class=\"dataframe\">\n",
       "  <thead>\n",
       "    <tr style=\"text-align: right;\">\n",
       "      <th></th>\n",
       "      <th>Open</th>\n",
       "      <th>High</th>\n",
       "      <th>Low</th>\n",
       "      <th>Close</th>\n",
       "      <th>Volume</th>\n",
       "      <th>Dividends</th>\n",
       "      <th>Stock Splits</th>\n",
       "    </tr>\n",
       "    <tr>\n",
       "      <th>Date</th>\n",
       "      <th></th>\n",
       "      <th></th>\n",
       "      <th></th>\n",
       "      <th></th>\n",
       "      <th></th>\n",
       "      <th></th>\n",
       "      <th></th>\n",
       "    </tr>\n",
       "  </thead>\n",
       "  <tbody>\n",
       "    <tr>\n",
       "      <th>2019-01-02</th>\n",
       "      <td>73.260002</td>\n",
       "      <td>77.667999</td>\n",
       "      <td>73.046501</td>\n",
       "      <td>76.956497</td>\n",
       "      <td>159662000</td>\n",
       "      <td>0</td>\n",
       "      <td>0.0</td>\n",
       "    </tr>\n",
       "    <tr>\n",
       "      <th>2019-01-03</th>\n",
       "      <td>76.000504</td>\n",
       "      <td>76.900002</td>\n",
       "      <td>74.855499</td>\n",
       "      <td>75.014000</td>\n",
       "      <td>139512000</td>\n",
       "      <td>0</td>\n",
       "      <td>0.0</td>\n",
       "    </tr>\n",
       "    <tr>\n",
       "      <th>2019-01-04</th>\n",
       "      <td>76.500000</td>\n",
       "      <td>79.699997</td>\n",
       "      <td>75.915497</td>\n",
       "      <td>78.769501</td>\n",
       "      <td>183652000</td>\n",
       "      <td>0</td>\n",
       "      <td>0.0</td>\n",
       "    </tr>\n",
       "    <tr>\n",
       "      <th>2019-01-07</th>\n",
       "      <td>80.115501</td>\n",
       "      <td>81.727997</td>\n",
       "      <td>79.459503</td>\n",
       "      <td>81.475502</td>\n",
       "      <td>159864000</td>\n",
       "      <td>0</td>\n",
       "      <td>0.0</td>\n",
       "    </tr>\n",
       "    <tr>\n",
       "      <th>2019-01-08</th>\n",
       "      <td>83.234497</td>\n",
       "      <td>83.830498</td>\n",
       "      <td>80.830498</td>\n",
       "      <td>82.829002</td>\n",
       "      <td>177628000</td>\n",
       "      <td>0</td>\n",
       "      <td>0.0</td>\n",
       "    </tr>\n",
       "    <tr>\n",
       "      <th>...</th>\n",
       "      <td>...</td>\n",
       "      <td>...</td>\n",
       "      <td>...</td>\n",
       "      <td>...</td>\n",
       "      <td>...</td>\n",
       "      <td>...</td>\n",
       "      <td>...</td>\n",
       "    </tr>\n",
       "    <tr>\n",
       "      <th>2023-03-02</th>\n",
       "      <td>91.410004</td>\n",
       "      <td>92.230003</td>\n",
       "      <td>90.389999</td>\n",
       "      <td>92.129997</td>\n",
       "      <td>55509400</td>\n",
       "      <td>0</td>\n",
       "      <td>0.0</td>\n",
       "    </tr>\n",
       "    <tr>\n",
       "      <th>2023-03-03</th>\n",
       "      <td>92.739998</td>\n",
       "      <td>94.940002</td>\n",
       "      <td>92.660004</td>\n",
       "      <td>94.900002</td>\n",
       "      <td>55695300</td>\n",
       "      <td>0</td>\n",
       "      <td>0.0</td>\n",
       "    </tr>\n",
       "    <tr>\n",
       "      <th>2023-03-06</th>\n",
       "      <td>95.190002</td>\n",
       "      <td>96.550003</td>\n",
       "      <td>93.739998</td>\n",
       "      <td>93.750000</td>\n",
       "      <td>52112400</td>\n",
       "      <td>0</td>\n",
       "      <td>0.0</td>\n",
       "    </tr>\n",
       "    <tr>\n",
       "      <th>2023-03-07</th>\n",
       "      <td>94.059998</td>\n",
       "      <td>95.089996</td>\n",
       "      <td>92.779999</td>\n",
       "      <td>93.550003</td>\n",
       "      <td>49100700</td>\n",
       "      <td>0</td>\n",
       "      <td>0.0</td>\n",
       "    </tr>\n",
       "    <tr>\n",
       "      <th>2023-03-08</th>\n",
       "      <td>93.599998</td>\n",
       "      <td>94.169998</td>\n",
       "      <td>92.180000</td>\n",
       "      <td>93.919998</td>\n",
       "      <td>44899100</td>\n",
       "      <td>0</td>\n",
       "      <td>0.0</td>\n",
       "    </tr>\n",
       "  </tbody>\n",
       "</table>\n",
       "<p>1053 rows × 7 columns</p>\n",
       "</div>"
      ],
      "text/plain": [
       "                 Open       High        Low      Close     Volume  Dividends  \\\n",
       "Date                                                                           \n",
       "2019-01-02  73.260002  77.667999  73.046501  76.956497  159662000          0   \n",
       "2019-01-03  76.000504  76.900002  74.855499  75.014000  139512000          0   \n",
       "2019-01-04  76.500000  79.699997  75.915497  78.769501  183652000          0   \n",
       "2019-01-07  80.115501  81.727997  79.459503  81.475502  159864000          0   \n",
       "2019-01-08  83.234497  83.830498  80.830498  82.829002  177628000          0   \n",
       "...               ...        ...        ...        ...        ...        ...   \n",
       "2023-03-02  91.410004  92.230003  90.389999  92.129997   55509400          0   \n",
       "2023-03-03  92.739998  94.940002  92.660004  94.900002   55695300          0   \n",
       "2023-03-06  95.190002  96.550003  93.739998  93.750000   52112400          0   \n",
       "2023-03-07  94.059998  95.089996  92.779999  93.550003   49100700          0   \n",
       "2023-03-08  93.599998  94.169998  92.180000  93.919998   44899100          0   \n",
       "\n",
       "            Stock Splits  \n",
       "Date                      \n",
       "2019-01-02           0.0  \n",
       "2019-01-03           0.0  \n",
       "2019-01-04           0.0  \n",
       "2019-01-07           0.0  \n",
       "2019-01-08           0.0  \n",
       "...                  ...  \n",
       "2023-03-02           0.0  \n",
       "2023-03-03           0.0  \n",
       "2023-03-06           0.0  \n",
       "2023-03-07           0.0  \n",
       "2023-03-08           0.0  \n",
       "\n",
       "[1053 rows x 7 columns]"
      ]
     },
     "execution_count": 25,
     "metadata": {},
     "output_type": "execute_result"
    }
   ],
   "source": [
    "AmazonHist = DataAmazon.history(start = '2019-1-1', end = '2023-3-9', interval='1d')\n",
    "AmazonHist"
   ]
  },
  {
   "cell_type": "code",
   "execution_count": 26,
   "metadata": {},
   "outputs": [
    {
     "data": {
      "image/png": "[encoded data removed]",
      "text/plain": [
       "<Figure size 1440x360 with 1 Axes>"
      ]
     },
     "metadata": {
      "needs_background": "light"
     },
     "output_type": "display_data"
    }
   ],
   "source": [
    "plt.figure(figsize=(20, 5))\n",
    "plt.plot(AmazonHist['Open'], color='red', marker='+', label='Open')\n",
    "plt.plot(AmazonHist['Close'], color='blue', marker='+', label='Close')\n",
    "plt.xlabel('Fecha')\n",
    "plt.ylabel('Precio de las acciones')\n",
    "plt.title('Amazon')\n",
    "plt.grid(True)\n",
    "plt.legend()\n",
    "plt.show()"
   ]
  },
  {
   "cell_type": "code",
   "execution_count": 27,
   "metadata": {},
   "outputs": [],
   "source": [
    "# Para Aeroméxico\n",
    "DataAeromex = yf.Ticker('AEROMEX.MX')"
   ]
  },
  {
   "cell_type": "code",
   "execution_count": 28,
   "metadata": {},
   "outputs": [
    {
     "data": {
      "text/html": [
       "<div>\n",
       "<style scoped>\n",
       "    .dataframe tbody tr th:only-of-type {\n",
       "        vertical-align: middle;\n",
       "    }\n",
       "\n",
       "    .dataframe tbody tr th {\n",
       "        vertical-align: top;\n",
       "    }\n",
       "\n",
       "    .dataframe thead th {\n",
       "        text-align: right;\n",
       "    }\n",
       "</style>\n",
       "<table border=\"1\" class=\"dataframe\">\n",
       "  <thead>\n",
       "    <tr style=\"text-align: right;\">\n",
       "      <th></th>\n",
       "      <th>Open</th>\n",
       "      <th>High</th>\n",
       "      <th>Low</th>\n",
       "      <th>Close</th>\n",
       "      <th>Volume</th>\n",
       "      <th>Dividends</th>\n",
       "      <th>Stock Splits</th>\n",
       "    </tr>\n",
       "    <tr>\n",
       "      <th>Date</th>\n",
       "      <th></th>\n",
       "      <th></th>\n",
       "      <th></th>\n",
       "      <th></th>\n",
       "      <th></th>\n",
       "      <th></th>\n",
       "      <th></th>\n",
       "    </tr>\n",
       "  </thead>\n",
       "  <tbody>\n",
       "    <tr>\n",
       "      <th>2019-01-02</th>\n",
       "      <td>22.000000</td>\n",
       "      <td>23.080000</td>\n",
       "      <td>22.000000</td>\n",
       "      <td>22.530001</td>\n",
       "      <td>54890</td>\n",
       "      <td>0</td>\n",
       "      <td>0</td>\n",
       "    </tr>\n",
       "    <tr>\n",
       "      <th>2019-01-03</th>\n",
       "      <td>22.500000</td>\n",
       "      <td>23.049999</td>\n",
       "      <td>22.500000</td>\n",
       "      <td>22.770000</td>\n",
       "      <td>88098</td>\n",
       "      <td>0</td>\n",
       "      <td>0</td>\n",
       "    </tr>\n",
       "    <tr>\n",
       "      <th>2019-01-04</th>\n",
       "      <td>23.430000</td>\n",
       "      <td>23.840000</td>\n",
       "      <td>22.780001</td>\n",
       "      <td>23.160000</td>\n",
       "      <td>69569</td>\n",
       "      <td>0</td>\n",
       "      <td>0</td>\n",
       "    </tr>\n",
       "    <tr>\n",
       "      <th>2019-01-07</th>\n",
       "      <td>23.180000</td>\n",
       "      <td>24.500000</td>\n",
       "      <td>23.100000</td>\n",
       "      <td>23.270000</td>\n",
       "      <td>160120</td>\n",
       "      <td>0</td>\n",
       "      <td>0</td>\n",
       "    </tr>\n",
       "    <tr>\n",
       "      <th>2019-01-08</th>\n",
       "      <td>23.219999</td>\n",
       "      <td>23.870001</td>\n",
       "      <td>22.820000</td>\n",
       "      <td>23.230000</td>\n",
       "      <td>190421</td>\n",
       "      <td>0</td>\n",
       "      <td>0</td>\n",
       "    </tr>\n",
       "    <tr>\n",
       "      <th>...</th>\n",
       "      <td>...</td>\n",
       "      <td>...</td>\n",
       "      <td>...</td>\n",
       "      <td>...</td>\n",
       "      <td>...</td>\n",
       "      <td>...</td>\n",
       "      <td>...</td>\n",
       "    </tr>\n",
       "    <tr>\n",
       "      <th>2023-03-02</th>\n",
       "      <td>167.000000</td>\n",
       "      <td>167.000000</td>\n",
       "      <td>167.000000</td>\n",
       "      <td>167.000000</td>\n",
       "      <td>0</td>\n",
       "      <td>0</td>\n",
       "      <td>0</td>\n",
       "    </tr>\n",
       "    <tr>\n",
       "      <th>2023-03-03</th>\n",
       "      <td>167.000000</td>\n",
       "      <td>167.000000</td>\n",
       "      <td>167.000000</td>\n",
       "      <td>167.000000</td>\n",
       "      <td>0</td>\n",
       "      <td>0</td>\n",
       "      <td>0</td>\n",
       "    </tr>\n",
       "    <tr>\n",
       "      <th>2023-03-06</th>\n",
       "      <td>167.000000</td>\n",
       "      <td>167.000000</td>\n",
       "      <td>167.000000</td>\n",
       "      <td>167.000000</td>\n",
       "      <td>0</td>\n",
       "      <td>0</td>\n",
       "      <td>0</td>\n",
       "    </tr>\n",
       "    <tr>\n",
       "      <th>2023-03-07</th>\n",
       "      <td>167.000000</td>\n",
       "      <td>167.000000</td>\n",
       "      <td>167.000000</td>\n",
       "      <td>167.000000</td>\n",
       "      <td>0</td>\n",
       "      <td>0</td>\n",
       "      <td>0</td>\n",
       "    </tr>\n",
       "    <tr>\n",
       "      <th>2023-03-08</th>\n",
       "      <td>167.000000</td>\n",
       "      <td>167.000000</td>\n",
       "      <td>167.000000</td>\n",
       "      <td>167.000000</td>\n",
       "      <td>0</td>\n",
       "      <td>0</td>\n",
       "      <td>0</td>\n",
       "    </tr>\n",
       "  </tbody>\n",
       "</table>\n",
       "<p>1055 rows × 7 columns</p>\n",
       "</div>"
      ],
      "text/plain": [
       "                  Open        High         Low       Close  Volume  Dividends  \\\n",
       "Date                                                                            \n",
       "2019-01-02   22.000000   23.080000   22.000000   22.530001   54890          0   \n",
       "2019-01-03   22.500000   23.049999   22.500000   22.770000   88098          0   \n",
       "2019-01-04   23.430000   23.840000   22.780001   23.160000   69569          0   \n",
       "2019-01-07   23.180000   24.500000   23.100000   23.270000  160120          0   \n",
       "2019-01-08   23.219999   23.870001   22.820000   23.230000  190421          0   \n",
       "...                ...         ...         ...         ...     ...        ...   \n",
       "2023-03-02  167.000000  167.000000  167.000000  167.000000       0          0   \n",
       "2023-03-03  167.000000  167.000000  167.000000  167.000000       0          0   \n",
       "2023-03-06  167.000000  167.000000  167.000000  167.000000       0          0   \n",
       "2023-03-07  167.000000  167.000000  167.000000  167.000000       0          0   \n",
       "2023-03-08  167.000000  167.000000  167.000000  167.000000       0          0   \n",
       "\n",
       "            Stock Splits  \n",
       "Date                      \n",
       "2019-01-02             0  \n",
       "2019-01-03             0  \n",
       "2019-01-04             0  \n",
       "2019-01-07             0  \n",
       "2019-01-08             0  \n",
       "...                  ...  \n",
       "2023-03-02             0  \n",
       "2023-03-03             0  \n",
       "2023-03-06             0  \n",
       "2023-03-07             0  \n",
       "2023-03-08             0  \n",
       "\n",
       "[1055 rows x 7 columns]"
      ]
     },
     "execution_count": 28,
     "metadata": {},
     "output_type": "execute_result"
    }
   ],
   "source": [
    "AeromexHist = DataAeromex.history(start = '2019-1-1', end = '2023-3-9', interval='1d')\n",
    "AeromexHist"
   ]
  },
  {
   "cell_type": "code",
   "execution_count": 29,
   "metadata": {},
   "outputs": [
    {
     "data": {
      "image/png": "[encoded data removed]",
      "text/plain": [
       "<Figure size 1440x360 with 1 Axes>"
      ]
     },
     "metadata": {
      "needs_background": "light"
     },
     "output_type": "display_data"
    }
   ],
   "source": [
    "plt.figure(figsize=(20, 5))\n",
    "plt.plot(AeromexHist['Open'], color='red', marker='+', label='Open')\n",
    "plt.plot(AeromexHist['Close'], color='blue', marker='+', label='Close')\n",
    "plt.xlabel('Fecha')\n",
    "plt.ylabel('Precio de las acciones')\n",
    "plt.title('Aeroméxico')\n",
    "plt.grid(True)\n",
    "plt.legend()\n",
    "plt.show()\n",
    "#Empieza a cotizar en la bolsa estadounidense."
   ]
  },
  {
   "cell_type": "markdown",
   "metadata": {},
   "source": [
    "### Integración"
   ]
  },
  {
   "cell_type": "code",
   "execution_count": 30,
   "metadata": {},
   "outputs": [
    {
     "data": {
      "text/html": [
       "<div>\n",
       "<style scoped>\n",
       "    .dataframe tbody tr th:only-of-type {\n",
       "        vertical-align: middle;\n",
       "    }\n",
       "\n",
       "    .dataframe tbody tr th {\n",
       "        vertical-align: top;\n",
       "    }\n",
       "\n",
       "    .dataframe thead th {\n",
       "        text-align: right;\n",
       "    }\n",
       "</style>\n",
       "<table border=\"1\" class=\"dataframe\">\n",
       "  <thead>\n",
       "    <tr style=\"text-align: right;\">\n",
       "      <th></th>\n",
       "      <th>Spotify</th>\n",
       "    </tr>\n",
       "    <tr>\n",
       "      <th>Date</th>\n",
       "      <th></th>\n",
       "    </tr>\n",
       "  </thead>\n",
       "  <tbody>\n",
       "    <tr>\n",
       "      <th>2019-01-02</th>\n",
       "      <td>113.739998</td>\n",
       "    </tr>\n",
       "    <tr>\n",
       "      <th>2019-01-03</th>\n",
       "      <td>109.019997</td>\n",
       "    </tr>\n",
       "    <tr>\n",
       "      <th>2019-01-04</th>\n",
       "      <td>118.510002</td>\n",
       "    </tr>\n",
       "    <tr>\n",
       "      <th>2019-01-07</th>\n",
       "      <td>119.360001</td>\n",
       "    </tr>\n",
       "    <tr>\n",
       "      <th>2019-01-08</th>\n",
       "      <td>117.480003</td>\n",
       "    </tr>\n",
       "    <tr>\n",
       "      <th>...</th>\n",
       "      <td>...</td>\n",
       "    </tr>\n",
       "    <tr>\n",
       "      <th>2023-03-02</th>\n",
       "      <td>118.480003</td>\n",
       "    </tr>\n",
       "    <tr>\n",
       "      <th>2023-03-03</th>\n",
       "      <td>123.739998</td>\n",
       "    </tr>\n",
       "    <tr>\n",
       "      <th>2023-03-06</th>\n",
       "      <td>126.379997</td>\n",
       "    </tr>\n",
       "    <tr>\n",
       "      <th>2023-03-07</th>\n",
       "      <td>126.330002</td>\n",
       "    </tr>\n",
       "    <tr>\n",
       "      <th>2023-03-08</th>\n",
       "      <td>126.989998</td>\n",
       "    </tr>\n",
       "  </tbody>\n",
       "</table>\n",
       "<p>1053 rows × 1 columns</p>\n",
       "</div>"
      ],
      "text/plain": [
       "               Spotify\n",
       "Date                  \n",
       "2019-01-02  113.739998\n",
       "2019-01-03  109.019997\n",
       "2019-01-04  118.510002\n",
       "2019-01-07  119.360001\n",
       "2019-01-08  117.480003\n",
       "...                ...\n",
       "2023-03-02  118.480003\n",
       "2023-03-03  123.739998\n",
       "2023-03-06  126.379997\n",
       "2023-03-07  126.330002\n",
       "2023-03-08  126.989998\n",
       "\n",
       "[1053 rows x 1 columns]"
      ]
     },
     "execution_count": 30,
     "metadata": {},
     "output_type": "execute_result"
    }
   ],
   "source": [
    "SpotifyClose = SpotifyHist.drop(columns = ['Open', 'High', 'Low', 'Volume', \n",
    "                                        'Dividends', 'Stock Splits'])\n",
    "SpotifyClose.rename(columns = {'Close': 'Spotify'}, inplace = True)\n",
    "SpotifyClose"
   ]
  },
  {
   "cell_type": "code",
   "execution_count": 31,
   "metadata": {},
   "outputs": [
    {
     "data": {
      "text/html": [
       "<div>\n",
       "<style scoped>\n",
       "    .dataframe tbody tr th:only-of-type {\n",
       "        vertical-align: middle;\n",
       "    }\n",
       "\n",
       "    .dataframe tbody tr th {\n",
       "        vertical-align: top;\n",
       "    }\n",
       "\n",
       "    .dataframe thead th {\n",
       "        text-align: right;\n",
       "    }\n",
       "</style>\n",
       "<table border=\"1\" class=\"dataframe\">\n",
       "  <thead>\n",
       "    <tr style=\"text-align: right;\">\n",
       "      <th></th>\n",
       "      <th>Facebook</th>\n",
       "    </tr>\n",
       "    <tr>\n",
       "      <th>Date</th>\n",
       "      <th></th>\n",
       "    </tr>\n",
       "  </thead>\n",
       "  <tbody>\n",
       "    <tr>\n",
       "      <th>2019-01-02</th>\n",
       "      <td>135.679993</td>\n",
       "    </tr>\n",
       "    <tr>\n",
       "      <th>2019-01-03</th>\n",
       "      <td>131.740005</td>\n",
       "    </tr>\n",
       "    <tr>\n",
       "      <th>2019-01-04</th>\n",
       "      <td>137.949997</td>\n",
       "    </tr>\n",
       "    <tr>\n",
       "      <th>2019-01-07</th>\n",
       "      <td>138.050003</td>\n",
       "    </tr>\n",
       "    <tr>\n",
       "      <th>2019-01-08</th>\n",
       "      <td>142.529999</td>\n",
       "    </tr>\n",
       "    <tr>\n",
       "      <th>...</th>\n",
       "      <td>...</td>\n",
       "    </tr>\n",
       "    <tr>\n",
       "      <th>2023-03-02</th>\n",
       "      <td>174.529999</td>\n",
       "    </tr>\n",
       "    <tr>\n",
       "      <th>2023-03-03</th>\n",
       "      <td>185.250000</td>\n",
       "    </tr>\n",
       "    <tr>\n",
       "      <th>2023-03-06</th>\n",
       "      <td>184.899994</td>\n",
       "    </tr>\n",
       "    <tr>\n",
       "      <th>2023-03-07</th>\n",
       "      <td>184.509995</td>\n",
       "    </tr>\n",
       "    <tr>\n",
       "      <th>2023-03-08</th>\n",
       "      <td>184.970001</td>\n",
       "    </tr>\n",
       "  </tbody>\n",
       "</table>\n",
       "<p>1053 rows × 1 columns</p>\n",
       "</div>"
      ],
      "text/plain": [
       "              Facebook\n",
       "Date                  \n",
       "2019-01-02  135.679993\n",
       "2019-01-03  131.740005\n",
       "2019-01-04  137.949997\n",
       "2019-01-07  138.050003\n",
       "2019-01-08  142.529999\n",
       "...                ...\n",
       "2023-03-02  174.529999\n",
       "2023-03-03  185.250000\n",
       "2023-03-06  184.899994\n",
       "2023-03-07  184.509995\n",
       "2023-03-08  184.970001\n",
       "\n",
       "[1053 rows x 1 columns]"
      ]
     },
     "execution_count": 31,
     "metadata": {},
     "output_type": "execute_result"
    }
   ],
   "source": [
    "FacebookClose = FacebookHist.drop(columns = ['Open', 'High', 'Low', 'Volume', \n",
    "                                        'Dividends', 'Stock Splits'])\n",
    "FacebookClose.rename(columns = {'Close': 'Facebook'}, inplace = True)\n",
    "FacebookClose"
   ]
  },
  {
   "cell_type": "code",
   "execution_count": 32,
   "metadata": {},
   "outputs": [
    {
     "data": {
      "text/html": [
       "<div>\n",
       "<style scoped>\n",
       "    .dataframe tbody tr th:only-of-type {\n",
       "        vertical-align: middle;\n",
       "    }\n",
       "\n",
       "    .dataframe tbody tr th {\n",
       "        vertical-align: top;\n",
       "    }\n",
       "\n",
       "    .dataframe thead th {\n",
       "        text-align: right;\n",
       "    }\n",
       "</style>\n",
       "<table border=\"1\" class=\"dataframe\">\n",
       "  <thead>\n",
       "    <tr style=\"text-align: right;\">\n",
       "      <th></th>\n",
       "      <th>Amazon</th>\n",
       "    </tr>\n",
       "    <tr>\n",
       "      <th>Date</th>\n",
       "      <th></th>\n",
       "    </tr>\n",
       "  </thead>\n",
       "  <tbody>\n",
       "    <tr>\n",
       "      <th>2019-01-02</th>\n",
       "      <td>76.956497</td>\n",
       "    </tr>\n",
       "    <tr>\n",
       "      <th>2019-01-03</th>\n",
       "      <td>75.014000</td>\n",
       "    </tr>\n",
       "    <tr>\n",
       "      <th>2019-01-04</th>\n",
       "      <td>78.769501</td>\n",
       "    </tr>\n",
       "    <tr>\n",
       "      <th>2019-01-07</th>\n",
       "      <td>81.475502</td>\n",
       "    </tr>\n",
       "    <tr>\n",
       "      <th>2019-01-08</th>\n",
       "      <td>82.829002</td>\n",
       "    </tr>\n",
       "    <tr>\n",
       "      <th>...</th>\n",
       "      <td>...</td>\n",
       "    </tr>\n",
       "    <tr>\n",
       "      <th>2023-03-02</th>\n",
       "      <td>92.129997</td>\n",
       "    </tr>\n",
       "    <tr>\n",
       "      <th>2023-03-03</th>\n",
       "      <td>94.900002</td>\n",
       "    </tr>\n",
       "    <tr>\n",
       "      <th>2023-03-06</th>\n",
       "      <td>93.750000</td>\n",
       "    </tr>\n",
       "    <tr>\n",
       "      <th>2023-03-07</th>\n",
       "      <td>93.550003</td>\n",
       "    </tr>\n",
       "    <tr>\n",
       "      <th>2023-03-08</th>\n",
       "      <td>93.919998</td>\n",
       "    </tr>\n",
       "  </tbody>\n",
       "</table>\n",
       "<p>1053 rows × 1 columns</p>\n",
       "</div>"
      ],
      "text/plain": [
       "               Amazon\n",
       "Date                 \n",
       "2019-01-02  76.956497\n",
       "2019-01-03  75.014000\n",
       "2019-01-04  78.769501\n",
       "2019-01-07  81.475502\n",
       "2019-01-08  82.829002\n",
       "...               ...\n",
       "2023-03-02  92.129997\n",
       "2023-03-03  94.900002\n",
       "2023-03-06  93.750000\n",
       "2023-03-07  93.550003\n",
       "2023-03-08  93.919998\n",
       "\n",
       "[1053 rows x 1 columns]"
      ]
     },
     "execution_count": 32,
     "metadata": {},
     "output_type": "execute_result"
    }
   ],
   "source": [
    "AmazonClose = AmazonHist.drop(columns = ['Open', 'High', 'Low', 'Volume', \n",
    "                                        'Dividends', 'Stock Splits'])\n",
    "AmazonClose.rename(columns = {'Close': 'Amazon'}, inplace = True)\n",
    "AmazonClose"
   ]
  },
  {
   "cell_type": "code",
   "execution_count": 33,
   "metadata": {},
   "outputs": [
    {
     "data": {
      "text/html": [
       "<div>\n",
       "<style scoped>\n",
       "    .dataframe tbody tr th:only-of-type {\n",
       "        vertical-align: middle;\n",
       "    }\n",
       "\n",
       "    .dataframe tbody tr th {\n",
       "        vertical-align: top;\n",
       "    }\n",
       "\n",
       "    .dataframe thead th {\n",
       "        text-align: right;\n",
       "    }\n",
       "</style>\n",
       "<table border=\"1\" class=\"dataframe\">\n",
       "  <thead>\n",
       "    <tr style=\"text-align: right;\">\n",
       "      <th></th>\n",
       "      <th>Aeromexico</th>\n",
       "    </tr>\n",
       "    <tr>\n",
       "      <th>Date</th>\n",
       "      <th></th>\n",
       "    </tr>\n",
       "  </thead>\n",
       "  <tbody>\n",
       "    <tr>\n",
       "      <th>2019-01-02</th>\n",
       "      <td>22.530001</td>\n",
       "    </tr>\n",
       "    <tr>\n",
       "      <th>2019-01-03</th>\n",
       "      <td>22.770000</td>\n",
       "    </tr>\n",
       "    <tr>\n",
       "      <th>2019-01-04</th>\n",
       "      <td>23.160000</td>\n",
       "    </tr>\n",
       "    <tr>\n",
       "      <th>2019-01-07</th>\n",
       "      <td>23.270000</td>\n",
       "    </tr>\n",
       "    <tr>\n",
       "      <th>2019-01-08</th>\n",
       "      <td>23.230000</td>\n",
       "    </tr>\n",
       "    <tr>\n",
       "      <th>...</th>\n",
       "      <td>...</td>\n",
       "    </tr>\n",
       "    <tr>\n",
       "      <th>2023-03-02</th>\n",
       "      <td>167.000000</td>\n",
       "    </tr>\n",
       "    <tr>\n",
       "      <th>2023-03-03</th>\n",
       "      <td>167.000000</td>\n",
       "    </tr>\n",
       "    <tr>\n",
       "      <th>2023-03-06</th>\n",
       "      <td>167.000000</td>\n",
       "    </tr>\n",
       "    <tr>\n",
       "      <th>2023-03-07</th>\n",
       "      <td>167.000000</td>\n",
       "    </tr>\n",
       "    <tr>\n",
       "      <th>2023-03-08</th>\n",
       "      <td>167.000000</td>\n",
       "    </tr>\n",
       "  </tbody>\n",
       "</table>\n",
       "<p>1055 rows × 1 columns</p>\n",
       "</div>"
      ],
      "text/plain": [
       "            Aeromexico\n",
       "Date                  \n",
       "2019-01-02   22.530001\n",
       "2019-01-03   22.770000\n",
       "2019-01-04   23.160000\n",
       "2019-01-07   23.270000\n",
       "2019-01-08   23.230000\n",
       "...                ...\n",
       "2023-03-02  167.000000\n",
       "2023-03-03  167.000000\n",
       "2023-03-06  167.000000\n",
       "2023-03-07  167.000000\n",
       "2023-03-08  167.000000\n",
       "\n",
       "[1055 rows x 1 columns]"
      ]
     },
     "execution_count": 33,
     "metadata": {},
     "output_type": "execute_result"
    }
   ],
   "source": [
    "AeromexClose = AeromexHist.drop(columns = ['Open', 'High', 'Low', 'Volume', \n",
    "                                        'Dividends', 'Stock Splits'])\n",
    "AeromexClose.rename(columns = {'Close': 'Aeromexico'}, inplace = True)\n",
    "AeromexClose"
   ]
  },
  {
   "cell_type": "code",
   "execution_count": 34,
   "metadata": {},
   "outputs": [
    {
     "data": {
      "text/html": [
       "<div>\n",
       "<style scoped>\n",
       "    .dataframe tbody tr th:only-of-type {\n",
       "        vertical-align: middle;\n",
       "    }\n",
       "\n",
       "    .dataframe tbody tr th {\n",
       "        vertical-align: top;\n",
       "    }\n",
       "\n",
       "    .dataframe thead th {\n",
       "        text-align: right;\n",
       "    }\n",
       "</style>\n",
       "<table border=\"1\" class=\"dataframe\">\n",
       "  <thead>\n",
       "    <tr style=\"text-align: right;\">\n",
       "      <th></th>\n",
       "      <th>Spotify</th>\n",
       "      <th>Facebook</th>\n",
       "      <th>Amazon</th>\n",
       "      <th>Aeromexico</th>\n",
       "    </tr>\n",
       "    <tr>\n",
       "      <th>Date</th>\n",
       "      <th></th>\n",
       "      <th></th>\n",
       "      <th></th>\n",
       "      <th></th>\n",
       "    </tr>\n",
       "  </thead>\n",
       "  <tbody>\n",
       "    <tr>\n",
       "      <th>2019-01-02</th>\n",
       "      <td>113.739998</td>\n",
       "      <td>135.679993</td>\n",
       "      <td>76.956497</td>\n",
       "      <td>22.530001</td>\n",
       "    </tr>\n",
       "    <tr>\n",
       "      <th>2019-01-03</th>\n",
       "      <td>109.019997</td>\n",
       "      <td>131.740005</td>\n",
       "      <td>75.014000</td>\n",
       "      <td>22.770000</td>\n",
       "    </tr>\n",
       "    <tr>\n",
       "      <th>2019-01-04</th>\n",
       "      <td>118.510002</td>\n",
       "      <td>137.949997</td>\n",
       "      <td>78.769501</td>\n",
       "      <td>23.160000</td>\n",
       "    </tr>\n",
       "    <tr>\n",
       "      <th>2019-01-07</th>\n",
       "      <td>119.360001</td>\n",
       "      <td>138.050003</td>\n",
       "      <td>81.475502</td>\n",
       "      <td>23.270000</td>\n",
       "    </tr>\n",
       "    <tr>\n",
       "      <th>2019-01-08</th>\n",
       "      <td>117.480003</td>\n",
       "      <td>142.529999</td>\n",
       "      <td>82.829002</td>\n",
       "      <td>23.230000</td>\n",
       "    </tr>\n",
       "    <tr>\n",
       "      <th>...</th>\n",
       "      <td>...</td>\n",
       "      <td>...</td>\n",
       "      <td>...</td>\n",
       "      <td>...</td>\n",
       "    </tr>\n",
       "    <tr>\n",
       "      <th>2023-03-02</th>\n",
       "      <td>118.480003</td>\n",
       "      <td>174.529999</td>\n",
       "      <td>92.129997</td>\n",
       "      <td>167.000000</td>\n",
       "    </tr>\n",
       "    <tr>\n",
       "      <th>2023-03-03</th>\n",
       "      <td>123.739998</td>\n",
       "      <td>185.250000</td>\n",
       "      <td>94.900002</td>\n",
       "      <td>167.000000</td>\n",
       "    </tr>\n",
       "    <tr>\n",
       "      <th>2023-03-06</th>\n",
       "      <td>126.379997</td>\n",
       "      <td>184.899994</td>\n",
       "      <td>93.750000</td>\n",
       "      <td>167.000000</td>\n",
       "    </tr>\n",
       "    <tr>\n",
       "      <th>2023-03-07</th>\n",
       "      <td>126.330002</td>\n",
       "      <td>184.509995</td>\n",
       "      <td>93.550003</td>\n",
       "      <td>167.000000</td>\n",
       "    </tr>\n",
       "    <tr>\n",
       "      <th>2023-03-08</th>\n",
       "      <td>126.989998</td>\n",
       "      <td>184.970001</td>\n",
       "      <td>93.919998</td>\n",
       "      <td>167.000000</td>\n",
       "    </tr>\n",
       "  </tbody>\n",
       "</table>\n",
       "<p>1025 rows × 4 columns</p>\n",
       "</div>"
      ],
      "text/plain": [
       "               Spotify    Facebook     Amazon  Aeromexico\n",
       "Date                                                     \n",
       "2019-01-02  113.739998  135.679993  76.956497   22.530001\n",
       "2019-01-03  109.019997  131.740005  75.014000   22.770000\n",
       "2019-01-04  118.510002  137.949997  78.769501   23.160000\n",
       "2019-01-07  119.360001  138.050003  81.475502   23.270000\n",
       "2019-01-08  117.480003  142.529999  82.829002   23.230000\n",
       "...                ...         ...        ...         ...\n",
       "2023-03-02  118.480003  174.529999  92.129997  167.000000\n",
       "2023-03-03  123.739998  185.250000  94.900002  167.000000\n",
       "2023-03-06  126.379997  184.899994  93.750000  167.000000\n",
       "2023-03-07  126.330002  184.509995  93.550003  167.000000\n",
       "2023-03-08  126.989998  184.970001  93.919998  167.000000\n",
       "\n",
       "[1025 rows x 4 columns]"
      ]
     },
     "execution_count": 34,
     "metadata": {},
     "output_type": "execute_result"
    }
   ],
   "source": [
    "# Se integran los cierres del precio de las acciones\n",
    "Acciones = pd.concat([SpotifyClose, FacebookClose, AmazonClose, AeromexClose], \n",
    "                      axis = 'columns', join = 'inner')\n",
    "Acciones"
   ]
  },
  {
   "cell_type": "code",
   "execution_count": 35,
   "metadata": {},
   "outputs": [
    {
     "data": {
      "text/html": [
       "<div>\n",
       "<style scoped>\n",
       "    .dataframe tbody tr th:only-of-type {\n",
       "        vertical-align: middle;\n",
       "    }\n",
       "\n",
       "    .dataframe tbody tr th {\n",
       "        vertical-align: top;\n",
       "    }\n",
       "\n",
       "    .dataframe thead th {\n",
       "        text-align: right;\n",
       "    }\n",
       "</style>\n",
       "<table border=\"1\" class=\"dataframe\">\n",
       "  <thead>\n",
       "    <tr style=\"text-align: right;\">\n",
       "      <th></th>\n",
       "      <th>Spotify</th>\n",
       "      <th>Facebook</th>\n",
       "      <th>Amazon</th>\n",
       "      <th>Aeromexico</th>\n",
       "    </tr>\n",
       "    <tr>\n",
       "      <th>Date</th>\n",
       "      <th></th>\n",
       "      <th></th>\n",
       "      <th></th>\n",
       "      <th></th>\n",
       "    </tr>\n",
       "  </thead>\n",
       "  <tbody>\n",
       "    <tr>\n",
       "      <th>2019-01-02</th>\n",
       "      <td>113.739998</td>\n",
       "      <td>135.679993</td>\n",
       "      <td>76.956497</td>\n",
       "      <td>22.530001</td>\n",
       "    </tr>\n",
       "    <tr>\n",
       "      <th>2019-01-03</th>\n",
       "      <td>109.019997</td>\n",
       "      <td>131.740005</td>\n",
       "      <td>75.014000</td>\n",
       "      <td>22.770000</td>\n",
       "    </tr>\n",
       "    <tr>\n",
       "      <th>2019-01-04</th>\n",
       "      <td>118.510002</td>\n",
       "      <td>137.949997</td>\n",
       "      <td>78.769501</td>\n",
       "      <td>23.160000</td>\n",
       "    </tr>\n",
       "    <tr>\n",
       "      <th>2019-01-07</th>\n",
       "      <td>119.360001</td>\n",
       "      <td>138.050003</td>\n",
       "      <td>81.475502</td>\n",
       "      <td>23.270000</td>\n",
       "    </tr>\n",
       "    <tr>\n",
       "      <th>2019-01-08</th>\n",
       "      <td>117.480003</td>\n",
       "      <td>142.529999</td>\n",
       "      <td>82.829002</td>\n",
       "      <td>23.230000</td>\n",
       "    </tr>\n",
       "    <tr>\n",
       "      <th>...</th>\n",
       "      <td>...</td>\n",
       "      <td>...</td>\n",
       "      <td>...</td>\n",
       "      <td>...</td>\n",
       "    </tr>\n",
       "    <tr>\n",
       "      <th>2023-03-02</th>\n",
       "      <td>118.480003</td>\n",
       "      <td>174.529999</td>\n",
       "      <td>92.129997</td>\n",
       "      <td>167.000000</td>\n",
       "    </tr>\n",
       "    <tr>\n",
       "      <th>2023-03-03</th>\n",
       "      <td>123.739998</td>\n",
       "      <td>185.250000</td>\n",
       "      <td>94.900002</td>\n",
       "      <td>167.000000</td>\n",
       "    </tr>\n",
       "    <tr>\n",
       "      <th>2023-03-06</th>\n",
       "      <td>126.379997</td>\n",
       "      <td>184.899994</td>\n",
       "      <td>93.750000</td>\n",
       "      <td>167.000000</td>\n",
       "    </tr>\n",
       "    <tr>\n",
       "      <th>2023-03-07</th>\n",
       "      <td>126.330002</td>\n",
       "      <td>184.509995</td>\n",
       "      <td>93.550003</td>\n",
       "      <td>167.000000</td>\n",
       "    </tr>\n",
       "    <tr>\n",
       "      <th>2023-03-08</th>\n",
       "      <td>126.989998</td>\n",
       "      <td>184.970001</td>\n",
       "      <td>93.919998</td>\n",
       "      <td>167.000000</td>\n",
       "    </tr>\n",
       "  </tbody>\n",
       "</table>\n",
       "<p>1025 rows × 4 columns</p>\n",
       "</div>"
      ],
      "text/plain": [
       "               Spotify    Facebook     Amazon  Aeromexico\n",
       "Date                                                     \n",
       "2019-01-02  113.739998  135.679993  76.956497   22.530001\n",
       "2019-01-03  109.019997  131.740005  75.014000   22.770000\n",
       "2019-01-04  118.510002  137.949997  78.769501   23.160000\n",
       "2019-01-07  119.360001  138.050003  81.475502   23.270000\n",
       "2019-01-08  117.480003  142.529999  82.829002   23.230000\n",
       "...                ...         ...        ...         ...\n",
       "2023-03-02  118.480003  174.529999  92.129997  167.000000\n",
       "2023-03-03  123.739998  185.250000  94.900002  167.000000\n",
       "2023-03-06  126.379997  184.899994  93.750000  167.000000\n",
       "2023-03-07  126.330002  184.509995  93.550003  167.000000\n",
       "2023-03-08  126.989998  184.970001  93.919998  167.000000\n",
       "\n",
       "[1025 rows x 4 columns]"
      ]
     },
     "execution_count": 35,
     "metadata": {},
     "output_type": "execute_result"
    }
   ],
   "source": [
    "# En caso de tener valores nulos\n",
    "AccionesNN = Acciones.dropna()\n",
    "AccionesNN"
   ]
  },
  {
   "cell_type": "code",
   "execution_count": 36,
   "metadata": {},
   "outputs": [
    {
     "data": {
      "image/png": "[encoded data removed]",
      "text/plain": [
       "<Figure size 1440x360 with 1 Axes>"
      ]
     },
     "metadata": {
      "needs_background": "light"
     },
     "output_type": "display_data"
    }
   ],
   "source": [
    "plt.figure(figsize=(20, 5))\n",
    "plt.plot(Acciones['Spotify'], color='red', marker='+', label='Close')\n",
    "plt.plot(Acciones['Facebook'], color='blue', marker='+', label='Close')\n",
    "plt.plot(Acciones['Amazon'], color='orange', marker='+', label='Close')\n",
    "plt.plot(Acciones['Aeromexico'], color='green', marker='+', label='Close')\n",
    "plt.xlabel('Fecha')\n",
    "plt.ylabel('Precio de las acciones')\n",
    "plt.title('Acciones')\n",
    "plt.grid(True)\n",
    "plt.legend()\n",
    "plt.show()"
   ]
  },
  {
   "cell_type": "code",
   "execution_count": 37,
   "metadata": {},
   "outputs": [
    {
     "data": {
      "image/png": "[encoded data removed]",
      "text/plain": [
       "<Figure size 1008x504 with 2 Axes>"
      ]
     },
     "metadata": {
      "needs_background": "light"
     },
     "output_type": "display_data"
    }
   ],
   "source": [
    "plt.figure(figsize=(14,7))\n",
    "MatrizInf = np.triu(Acciones.corr())\n",
    "sns.heatmap(Acciones.corr(), cmap='RdBu_r', annot=True, mask=MatrizInf)\n",
    "plt.show()"
   ]
  },
  {
   "cell_type": "code",
   "execution_count": 38,
   "metadata": {},
   "outputs": [
    {
     "data": {
      "text/html": [
       "<div>\n",
       "<style scoped>\n",
       "    .dataframe tbody tr th:only-of-type {\n",
       "        vertical-align: middle;\n",
       "    }\n",
       "\n",
       "    .dataframe tbody tr th {\n",
       "        vertical-align: top;\n",
       "    }\n",
       "\n",
       "    .dataframe thead th {\n",
       "        text-align: right;\n",
       "    }\n",
       "</style>\n",
       "<table border=\"1\" class=\"dataframe\">\n",
       "  <thead>\n",
       "    <tr style=\"text-align: right;\">\n",
       "      <th></th>\n",
       "      <th>Spotify</th>\n",
       "      <th>Facebook</th>\n",
       "      <th>Amazon</th>\n",
       "      <th>Aeromexico</th>\n",
       "    </tr>\n",
       "  </thead>\n",
       "  <tbody>\n",
       "    <tr>\n",
       "      <th>Spotify</th>\n",
       "      <td>1.000000</td>\n",
       "      <td>0.814054</td>\n",
       "      <td>0.786855</td>\n",
       "      <td>-0.555144</td>\n",
       "    </tr>\n",
       "    <tr>\n",
       "      <th>Facebook</th>\n",
       "      <td>0.814054</td>\n",
       "      <td>1.000000</td>\n",
       "      <td>0.845953</td>\n",
       "      <td>-0.467426</td>\n",
       "    </tr>\n",
       "    <tr>\n",
       "      <th>Amazon</th>\n",
       "      <td>0.786855</td>\n",
       "      <td>0.845953</td>\n",
       "      <td>1.000000</td>\n",
       "      <td>-0.182062</td>\n",
       "    </tr>\n",
       "    <tr>\n",
       "      <th>Aeromexico</th>\n",
       "      <td>-0.555144</td>\n",
       "      <td>-0.467426</td>\n",
       "      <td>-0.182062</td>\n",
       "      <td>1.000000</td>\n",
       "    </tr>\n",
       "  </tbody>\n",
       "</table>\n",
       "</div>"
      ],
      "text/plain": [
       "             Spotify  Facebook    Amazon  Aeromexico\n",
       "Spotify     1.000000  0.814054  0.786855   -0.555144\n",
       "Facebook    0.814054  1.000000  0.845953   -0.467426\n",
       "Amazon      0.786855  0.845953  1.000000   -0.182062\n",
       "Aeromexico -0.555144 -0.467426 -0.182062    1.000000"
      ]
     },
     "execution_count": 38,
     "metadata": {},
     "output_type": "execute_result"
    }
   ],
   "source": [
    "Acciones.corr()"
   ]
  },
  {
   "cell_type": "code",
   "execution_count": null,
   "metadata": {},
   "outputs": [],
   "source": []
  }
 ],
 "metadata": {
  "colab": {
   "provenance": []
  },
  "kernelspec": {
   "display_name": "Python 3 (ipykernel)",
   "language": "python",
   "name": "python3"
  },
  "language_info": {
   "codemirror_mode": {
    "name": "ipython",
    "version": 3
   },
   "file_extension": ".py",
   "mimetype": "text/x-python",
   "name": "python",
   "nbconvert_exporter": "python",
   "pygments_lexer": "ipython3",
   "version": "3.9.13"
  }
 },
 "nbformat": 4,
 "nbformat_minor": 1
}
