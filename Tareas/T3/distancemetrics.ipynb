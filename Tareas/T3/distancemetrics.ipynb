{
 "cells": [
  {
   "attachments": {},
   "cell_type": "markdown",
   "metadata": {},
   "source": [
    "# Métricas de distancia\n",
    "\n",
    "En el siguiente cuaderno de Jupyter se ejemplifican las distintas medidas de distancia para la comparación de cadenas."
   ]
  },
  {
   "attachments": {},
   "cell_type": "markdown",
   "metadata": {},
   "source": [
    "*Medida de Levenshtein*\n",
    "\n",
    "La distancia de Levenshtein, también conocida como distancia de edición, es una métrica que se utiliza para medir la diferencia entre dos cadenas de caracteres. Esta distancia mide el número mínimo de operaciones de edición (inserción, eliminación o sustitución) necesarias para convertir una cadena en otra. Es decir, la distancia de Levenshtein calcula cuántos cambios se deben hacer para transformar una cadena en otra. Mientras mayor sea la distancia obtenida, mayor es la diferencia entre ambas cadenas (también llamadas como hileras)."
   ]
  },
  {
   "cell_type": "code",
   "execution_count": 2,
   "metadata": {},
   "outputs": [
    {
     "name": "stdout",
     "output_type": "stream",
     "text": [
      "Collecting hermetrics\n",
      "  Downloading hermetrics-0.1.13-py3-none-any.whl (19 kB)\n",
      "Installing collected packages: hermetrics\n",
      "Successfully installed hermetrics-0.1.13\n",
      "Note: you may need to restart the kernel to use updated packages.\n"
     ]
    }
   ],
   "source": [
    "#pip install hermetrics"
   ]
  },
  {
   "cell_type": "code",
   "execution_count": 16,
   "metadata": {},
   "outputs": [
    {
     "name": "stdout",
     "output_type": "stream",
     "text": [
      "La distancia de Levenshtein entre cabello y caballero es de: 3\n",
      "La distancia normalizada de Levenshtein obtenida es de: 0.3333333333333333\n",
      "La similitud de Levenshtein obtenida es de: 0.6666666666666667\n"
     ]
    }
   ],
   "source": [
    "from hermetrics.levenshtein import Levenshtein\n",
    "\n",
    "lv = Levenshtein()\n",
    "word1 = input(\"Escriba la primera cadena: \")\n",
    "word2 = input(\"Escriba la segunda cadena: \")\n",
    "distancia = lv.distance(word1, word2)\n",
    "distanciaNormalizada = lv.normalized_distance(word1, word2)\n",
    "similitud = lv.similarity(word1, word2)\n",
    "\n",
    "print(\"La distancia de Levenshtein entre\",  word1,  \"y\",  word2, \"es de:\", distancia)\n",
    "print(\"La distancia normalizada de Levenshtein obtenida es de:\", distanciaNormalizada)\n",
    "print(\"La similitud de Levenshtein obtenida es de:\", similitud)"
   ]
  },
  {
   "cell_type": "code",
   "execution_count": 17,
   "metadata": {},
   "outputs": [
    {
     "name": "stdout",
     "output_type": "stream",
     "text": [
      "La distancia de Levenshtein entre cabello y caballero es de: 3\n",
      "La distancia de Levenshtein normalizada es de: 0.3333333333333333\n",
      "La similitud de Levenshtein obtenida es de: 0.6666666666666667\n"
     ]
    }
   ],
   "source": [
    "def levenshtein_distance(s, t):\n",
    "    m = len(s)\n",
    "    n = len(t)\n",
    "    d = [[0] * (n + 1) for i in range(m + 1)]\n",
    "    for i in range(m + 1):\n",
    "        d[i][0] = i\n",
    "    for j in range(n + 1):\n",
    "        d[0][j] = j\n",
    "    for j in range(1, n + 1):\n",
    "        for i in range(1, m + 1):\n",
    "            if s[i-1] == t[j-1]:\n",
    "                d[i][j] = d[i-1][j-1]\n",
    "            else:\n",
    "                d[i][j] = min(d[i-1][j] + 1,   # eliminación\n",
    "                              d[i][j-1] + 1,   # inserción\n",
    "                              d[i-1][j-1] + 1) # sustitución\n",
    "    return d[m][n]\n",
    "\n",
    "\n",
    "def normalized_distance(s, t):\n",
    "    max_len = max(len(s), len(t))\n",
    "    if max_len == 0:\n",
    "        return 0\n",
    "    else:\n",
    "        return levenshtein_distance(s, t) / max_len\n",
    "\n",
    "def similarity(s, t):\n",
    "    return (1 - normalized_distance(s, t))\n",
    "\n",
    "word1 = input(\"Escriba la primera cadena: \")\n",
    "word2 = input(\"Escriba la segunda cadena: \")\n",
    "\n",
    "distanciaX = levenshtein_distance(word1, word2)\n",
    "distanciaNormalizadaX = normalized_distance(word1, word2)\n",
    "similitudX = similarity(word1, word2)\n",
    "print(\"La distancia de Levenshtein entre\",  word1,  \"y\",  word2, \"es de:\", distanciaX)\n",
    "print(\"La distancia de Levenshtein normalizada es de:\", distanciaNormalizadaX)\n",
    "print(\"La similitud de Levenshtein obtenida es de:\", similitudX)\n",
    "\n"
   ]
  },
  {
   "attachments": {},
   "cell_type": "markdown",
   "metadata": {},
   "source": [
    "# N-Gramas"
   ]
  },
  {
   "attachments": {},
   "cell_type": "markdown",
   "metadata": {},
   "source": [
    "El algoritmo de N-Gramas es un método para analizar la similitud entre dos cadenas de texto, basado en la ocurrencia de subsecuencias de n caracteres llamadas n-gramas. El algoritmo de N-Gramas utiliza el concepto de bag of words para analizar las similitudes entre las cadenas de texto, es decir, no se tiene en cuenta el orden ni la estructura de las palabras, sino únicamente las palabras individuales que aparecen en cada cadena."
   ]
  },
  {
   "cell_type": "code",
   "execution_count": 41,
   "metadata": {},
   "outputs": [
    {
     "name": "stderr",
     "output_type": "stream",
     "text": [
      "[nltk_data] Downloading package stopwords to\n",
      "[nltk_data]     C:\\Users\\jorje\\AppData\\Roaming\\nltk_data...\n",
      "[nltk_data]   Package stopwords is already up-to-date!\n"
     ]
    },
    {
     "name": "stdout",
     "output_type": "stream",
     "text": [
      "Hola buenos dias como se encuentra usted Hola buenas tardes que tal esta usted\n",
      "Oraciones tras eliminar stopwords:  ['Hola', 'buenos', 'dias', 'encuentra', 'usted']\n",
      "Oraciones tras eliminar stopwords:  ['Hola', 'buenas', 'tardes', 'tal', 'usted']\n",
      "1 -gramas de la cadena 1:  ['Hola', 'buenos', 'dias', 'encuentra', 'usted']\n",
      "1 -gramas de la cadena 2:  ['Hola', 'buenas', 'tardes', 'tal', 'usted']\n",
      "['dias', 'Hola', 'buenos', 'encuentra', 'usted', 'buenas', 'tal', 'tardes']\n",
      "[1, 1, 1, 1, 1, 0, 0, 0] [0, 1, 0, 0, 1, 1, 1, 1]\n",
      "La similitud por N-Gramas obtenida es de: 0.6\n"
     ]
    }
   ],
   "source": [
    "import nltk\n",
    "from nltk.corpus import stopwords\n",
    "nltk.download('stopwords')\n",
    "\n",
    "def generate_N_grams(text,ngram=1):\n",
    "  \"\"\"Genera N-Gramas eliminado las palabras vacías y generando los n-gramas correspondientes.\"\"\"\n",
    "  words=[word for word in text.split(\" \") if word not in set(stopwords.words('spanish'))]  \n",
    "  print(\"Oraciones tras eliminar stopwords: \",words)\n",
    "  temp=zip(*[words[i:] for i in range(0,ngram)])\n",
    "  ans=[' '.join(ngram) for ngram in temp]\n",
    "  return ans\n",
    "\n",
    "def cos_dist(text1, text2, n):\n",
    "    from scipy import spatial\n",
    "    text1 = generate_N_grams(text1, n)\n",
    "    text2 = generate_N_grams(text2, n)\n",
    "    print(n,\"-gramas de la cadena 1: \", text1)\n",
    "    print(n,\"-gramas de la cadena 2: \", text2)\n",
    "    full_text = list(set(text1).union(set(text2)))\n",
    "    print(full_text)\n",
    "    v1 = [(lambda x: text1.count(x))(x) for x in full_text]\n",
    "    v2 = [(lambda x: text2.count(x))(x) for x in full_text]\n",
    "    print(v1, v2)\n",
    "    return spatial.distance.cosine(v1, v2)\n",
    "\n",
    "\n",
    "word1 = input(\"Escriba la primera cadena: \")\n",
    "word2 = input(\"Escriba la segunda cadena: \")\n",
    "n = int(input(\"Escriba la longitud de los n-gramas: \"))\n",
    "\n",
    "print(word1, word2)\n",
    "\n",
    "similitudNG = cos_dist(word1, word2, n)\n",
    "print(\"La similitud por N-Gramas obtenida es de:\", similitudNG)\n"
   ]
  },
  {
   "attachments": {},
   "cell_type": "markdown",
   "metadata": {},
   "source": [
    "# Jaccard"
   ]
  },
  {
   "attachments": {},
   "cell_type": "markdown",
   "metadata": {},
   "source": [
    "La distancia de Jaccard es una medida de similitud entre dos conjuntos, y se utiliza para determinar la cantidad de elementos compartidos entre ellos. Se define como el tamaño de la intersección de los conjuntos dividido por el tamaño de la unión de los conjuntos."
   ]
  },
  {
   "cell_type": "code",
   "execution_count": 42,
   "metadata": {},
   "outputs": [
    {
     "name": "stdout",
     "output_type": "stream",
     "text": [
      "La distancia de Jaccard entre El hombre que sabe querer y El nombre que no supo querer es de: 0.2666666666666667\n",
      "La similitud de Jaccard obtenida es de: 0.7333333333333333\n"
     ]
    }
   ],
   "source": [
    "from hermetrics.jaccard import Jaccard\n",
    "\n",
    "jc = Jaccard()\n",
    "word1 = input(\"Escriba la primera cadena: \")\n",
    "word2 = input(\"Escriba la segunda cadena: \")\n",
    "\n",
    "distanciaJ = jc.distance(word1, word2)\n",
    "similitudJ = jc.similarity(word1, word2)\n",
    "\n",
    "print(\"La distancia de Jaccard entre\",  word1,  \"y\",  word2, \"es de:\", distanciaJ)\n",
    "print(\"La similitud de Jaccard obtenida es de:\", similitudJ)"
   ]
  }
 ],
 "metadata": {
  "kernelspec": {
   "display_name": "base",
   "language": "python",
   "name": "python3"
  },
  "language_info": {
   "codemirror_mode": {
    "name": "ipython",
    "version": 3
   },
   "file_extension": ".py",
   "mimetype": "text/x-python",
   "name": "python",
   "nbconvert_exporter": "python",
   "pygments_lexer": "ipython3",
   "version": "3.9.13"
  },
  "orig_nbformat": 4
 },
 "nbformat": 4,
 "nbformat_minor": 2
}
